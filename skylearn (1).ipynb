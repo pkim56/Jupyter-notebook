{
 "cells": [
  {
   "cell_type": "code",
   "execution_count": 1,
   "id": "cultural-circus",
   "metadata": {},
   "outputs": [
    {
     "name": "stdout",
     "output_type": "stream",
     "text": [
      "Requirement already satisfied: pandas in /srv/conda/envs/notebook/lib/python3.7/site-packages (1.3.0)\r\n",
      "Requirement already satisfied: numpy>=1.17.3 in /srv/conda/envs/notebook/lib/python3.7/site-packages (from pandas) (1.21.0)\r\n",
      "Requirement already satisfied: pytz>=2017.3 in /srv/conda/envs/notebook/lib/python3.7/site-packages (from pandas) (2021.1)\r\n",
      "Requirement already satisfied: python-dateutil>=2.7.3 in /srv/conda/envs/notebook/lib/python3.7/site-packages (from pandas) (2.8.1)\r\n",
      "Requirement already satisfied: six>=1.5 in /srv/conda/envs/notebook/lib/python3.7/site-packages (from python-dateutil>=2.7.3->pandas) (1.15.0)\r\n"
     ]
    }
   ],
   "source": [
    "!pip install pandas\n",
    "\n",
    "import pandas as pd\n",
    "df=pd.read_csv(\"80_Train.csv\",sep=\",\")\n",
    "\n"
   ]
  },
  {
   "cell_type": "code",
   "execution_count": 2,
   "id": "introductory-france",
   "metadata": {},
   "outputs": [],
   "source": [
    "x_columns=df.columns\n",
    "x = df[x_columns].values\n",
    "y = df['RF'].values"
   ]
  },
  {
   "cell_type": "code",
   "execution_count": 3,
   "id": "aggregate-packaging",
   "metadata": {},
   "outputs": [
    {
     "name": "stdout",
     "output_type": "stream",
     "text": [
      "Collecting package metadata (current_repodata.json): done\n",
      "Solving environment: done\n",
      "\n",
      "\n",
      "==> WARNING: A newer version of conda exists. <==\n",
      "  current version: 4.9.2\n",
      "  latest version: 4.10.3\n",
      "\n",
      "Please update conda by running\n",
      "\n",
      "    $ conda update -n base conda\n",
      "\n",
      "\n",
      "\n",
      "# All requested packages already installed.\n",
      "\n",
      "\n",
      "Note: you may need to restart the kernel to use updated packages.\n"
     ]
    }
   ],
   "source": [
    "conda install tensorflow\n"
   ]
  },
  {
   "cell_type": "code",
   "execution_count": 4,
   "id": "modern-protest",
   "metadata": {},
   "outputs": [
    {
     "name": "stdout",
     "output_type": "stream",
     "text": [
      "Collecting package metadata (current_repodata.json): done\n",
      "Solving environment: done\n",
      "\n",
      "\n",
      "==> WARNING: A newer version of conda exists. <==\n",
      "  current version: 4.9.2\n",
      "  latest version: 4.10.3\n",
      "\n",
      "Please update conda by running\n",
      "\n",
      "    $ conda update -n base conda\n",
      "\n",
      "\n",
      "\n",
      "# All requested packages already installed.\n",
      "\n",
      "\n",
      "Note: you may need to restart the kernel to use updated packages.\n"
     ]
    }
   ],
   "source": [
    "conda install keras"
   ]
  },
  {
   "cell_type": "code",
   "execution_count": 5,
   "id": "prepared-africa",
   "metadata": {},
   "outputs": [
    {
     "name": "stdout",
     "output_type": "stream",
     "text": [
      "Collecting package metadata (current_repodata.json): done\n",
      "Solving environment: done\n",
      "\n",
      "\n",
      "==> WARNING: A newer version of conda exists. <==\n",
      "  current version: 4.9.2\n",
      "  latest version: 4.10.3\n",
      "\n",
      "Please update conda by running\n",
      "\n",
      "    $ conda update -n base conda\n",
      "\n",
      "\n",
      "\n",
      "# All requested packages already installed.\n",
      "\n",
      "\n",
      "Note: you may need to restart the kernel to use updated packages.\n"
     ]
    }
   ],
   "source": [
    " conda install scikit-learn"
   ]
  },
  {
   "cell_type": "code",
   "execution_count": null,
   "id": "loose-planet",
   "metadata": {},
   "outputs": [
    {
     "name": "stdout",
     "output_type": "stream",
     "text": [
      "Fold #1\n",
      "Epoch 1/1000\n",
      "2/2 - 1s - loss: 0.7973 - val_loss: 0.7286\n",
      "Epoch 2/1000\n",
      "2/2 - 0s - loss: 0.7475 - val_loss: 0.6828\n",
      "Epoch 3/1000\n",
      "2/2 - 0s - loss: 0.7027 - val_loss: 0.6424\n",
      "Epoch 4/1000\n",
      "2/2 - 0s - loss: 0.6624 - val_loss: 0.6070\n",
      "Epoch 5/1000\n",
      "2/2 - 0s - loss: 0.6258 - val_loss: 0.5771\n",
      "Epoch 6/1000\n",
      "2/2 - 0s - loss: 0.5937 - val_loss: 0.5484\n",
      "Epoch 7/1000\n",
      "2/2 - 0s - loss: 0.5624 - val_loss: 0.5209\n",
      "Epoch 8/1000\n",
      "2/2 - 0s - loss: 0.5318 - val_loss: 0.4944\n",
      "Epoch 9/1000\n",
      "2/2 - 1s - loss: 0.5039 - val_loss: 0.4704\n",
      "Epoch 10/1000\n",
      "2/2 - 0s - loss: 0.4775 - val_loss: 0.4512\n",
      "Epoch 11/1000\n",
      "2/2 - 0s - loss: 0.4518 - val_loss: 0.4312\n",
      "Epoch 12/1000\n",
      "2/2 - 0s - loss: 0.4282 - val_loss: 0.4106\n",
      "Epoch 13/1000\n",
      "2/2 - 0s - loss: 0.4089 - val_loss: 0.3929\n",
      "Epoch 14/1000\n",
      "2/2 - 0s - loss: 0.3962 - val_loss: 0.3783\n",
      "Epoch 15/1000\n",
      "2/2 - 0s - loss: 0.3868 - val_loss: 0.3670\n",
      "Epoch 16/1000\n",
      "2/2 - 0s - loss: 0.3791 - val_loss: 0.3559\n",
      "Epoch 17/1000\n",
      "2/2 - 0s - loss: 0.3702 - val_loss: 0.3444\n",
      "Epoch 18/1000\n",
      "2/2 - 0s - loss: 0.3609 - val_loss: 0.3342\n",
      "Epoch 19/1000\n",
      "2/2 - 0s - loss: 0.3532 - val_loss: 0.3247\n",
      "Epoch 20/1000\n",
      "2/2 - 0s - loss: 0.3444 - val_loss: 0.3150\n",
      "Epoch 21/1000\n",
      "2/2 - 0s - loss: 0.3357 - val_loss: 0.3070\n",
      "Epoch 22/1000\n",
      "2/2 - 0s - loss: 0.3263 - val_loss: 0.2992\n",
      "Epoch 23/1000\n",
      "2/2 - 0s - loss: 0.3172 - val_loss: 0.2930\n",
      "Epoch 24/1000\n",
      "2/2 - 0s - loss: 0.3117 - val_loss: 0.2883\n",
      "Epoch 25/1000\n",
      "2/2 - 0s - loss: 0.3046 - val_loss: 0.2837\n",
      "Epoch 26/1000\n",
      "2/2 - 1s - loss: 0.2981 - val_loss: 0.2813\n",
      "Epoch 27/1000\n",
      "2/2 - 0s - loss: 0.2932 - val_loss: 0.2792\n",
      "Epoch 28/1000\n",
      "2/2 - 0s - loss: 0.2887 - val_loss: 0.2771\n",
      "Epoch 29/1000\n",
      "2/2 - 0s - loss: 0.2844 - val_loss: 0.2768\n",
      "Epoch 30/1000\n",
      "2/2 - 1s - loss: 0.2790 - val_loss: 0.2765\n",
      "Epoch 31/1000\n",
      "2/2 - 0s - loss: 0.2750 - val_loss: 0.2760\n",
      "Epoch 32/1000\n",
      "2/2 - 0s - loss: 0.2720 - val_loss: 0.2751\n",
      "Epoch 33/1000\n",
      "2/2 - 0s - loss: 0.2680 - val_loss: 0.2739\n",
      "Epoch 34/1000\n",
      "2/2 - 0s - loss: 0.2642 - val_loss: 0.2727\n",
      "Epoch 35/1000\n",
      "2/2 - 0s - loss: 0.2612 - val_loss: 0.2711\n",
      "Epoch 36/1000\n",
      "2/2 - 0s - loss: 0.2573 - val_loss: 0.2692\n",
      "Epoch 37/1000\n",
      "2/2 - 0s - loss: 0.2540 - val_loss: 0.2670\n",
      "Epoch 38/1000\n",
      "2/2 - 0s - loss: 0.2500 - val_loss: 0.2643\n",
      "Epoch 39/1000\n",
      "2/2 - 0s - loss: 0.2459 - val_loss: 0.2614\n",
      "Epoch 40/1000\n",
      "2/2 - 0s - loss: 0.2413 - val_loss: 0.2581\n",
      "Epoch 41/1000\n",
      "2/2 - 0s - loss: 0.2363 - val_loss: 0.2547\n",
      "Epoch 42/1000\n",
      "2/2 - 0s - loss: 0.2314 - val_loss: 0.2511\n",
      "Epoch 43/1000\n",
      "2/2 - 0s - loss: 0.2266 - val_loss: 0.2474\n",
      "Epoch 44/1000\n",
      "2/2 - 0s - loss: 0.2215 - val_loss: 0.2436\n",
      "Epoch 45/1000\n",
      "2/2 - 0s - loss: 0.2167 - val_loss: 0.2398\n",
      "Epoch 46/1000\n",
      "2/2 - 1s - loss: 0.2111 - val_loss: 0.2359\n",
      "Epoch 47/1000\n",
      "2/2 - 0s - loss: 0.2055 - val_loss: 0.2317\n",
      "Epoch 48/1000\n",
      "2/2 - 0s - loss: 0.1994 - val_loss: 0.2269\n",
      "Epoch 49/1000\n",
      "2/2 - 0s - loss: 0.1930 - val_loss: 0.2218\n",
      "Epoch 50/1000\n",
      "2/2 - 1s - loss: 0.1862 - val_loss: 0.2167\n",
      "Epoch 51/1000\n",
      "2/2 - 0s - loss: 0.1789 - val_loss: 0.2114\n",
      "Epoch 52/1000\n",
      "2/2 - 0s - loss: 0.1720 - val_loss: 0.2053\n",
      "Epoch 53/1000\n",
      "2/2 - 0s - loss: 0.1655 - val_loss: 0.1994\n",
      "Epoch 54/1000\n",
      "2/2 - 0s - loss: 0.1595 - val_loss: 0.1938\n",
      "Epoch 55/1000\n",
      "2/2 - 0s - loss: 0.1519 - val_loss: 0.1879\n",
      "Epoch 56/1000\n",
      "2/2 - 0s - loss: 0.1451 - val_loss: 0.1816\n",
      "Epoch 57/1000\n",
      "2/2 - 0s - loss: 0.1381 - val_loss: 0.1750\n",
      "Epoch 58/1000\n",
      "2/2 - 0s - loss: 0.1310 - val_loss: 0.1689\n",
      "Epoch 59/1000\n",
      "2/2 - 0s - loss: 0.1231 - val_loss: 0.1627\n",
      "Epoch 60/1000\n",
      "2/2 - 0s - loss: 0.1171 - val_loss: 0.1552\n",
      "Epoch 61/1000\n",
      "2/2 - 0s - loss: 0.1084 - val_loss: 0.1484\n",
      "Epoch 62/1000\n",
      "2/2 - 0s - loss: 0.1018 - val_loss: 0.1415\n",
      "Epoch 63/1000\n",
      "2/2 - 0s - loss: 0.0956 - val_loss: 0.1338\n",
      "Epoch 64/1000\n",
      "2/2 - 0s - loss: 0.0898 - val_loss: 0.1259\n",
      "Epoch 65/1000\n",
      "2/2 - 0s - loss: 0.0839 - val_loss: 0.1184\n",
      "Epoch 66/1000\n",
      "2/2 - 0s - loss: 0.0795 - val_loss: 0.1123\n",
      "Epoch 67/1000\n",
      "2/2 - 0s - loss: 0.0770 - val_loss: 0.1097\n",
      "Epoch 68/1000\n",
      "2/2 - 0s - loss: 0.0749 - val_loss: 0.1074\n",
      "Epoch 69/1000\n",
      "2/2 - 0s - loss: 0.0732 - val_loss: 0.1054\n",
      "Epoch 70/1000\n",
      "2/2 - 0s - loss: 0.0711 - val_loss: 0.1041\n"
     ]
    }
   ],
   "source": [
    "import os\n",
    "import numpy as np\n",
    "from sklearn import metrics\n",
    "from scipy.stats import zscore\n",
    "from sklearn.model_selection import KFold\n",
    "from tensorflow.keras.models import Sequential\n",
    "from tensorflow.keras.layers import Dense, Activation, Dropout\n",
    "from tensorflow.keras.callbacks import EarlyStopping\n",
    "\n",
    "\n",
    "kf = KFold(5, shuffle=True, random_state=42) # Use for KFold classification\n",
    "    \n",
    "out_of_sample_y = []\n",
    "out_of_sample_pred = []\n",
    "fold = 0\n",
    "for train, test in kf.split(x):\n",
    "    fold+=1\n",
    "    print(f\"Fold #{fold}\")\n",
    "        \n",
    "    x_train = x[train]\n",
    "    y_train = y[train]\n",
    "    x_test = x[test]\n",
    "    y_test = y[test]\n",
    "    \n",
    "    model = Sequential()\n",
    "    model.add(Dense(64, input_dim=x.shape[1], activation='relu'))\n",
    "    model.add(Dropout(0.3))\n",
    "    model.add(Dense(32, activation='relu'))\n",
    "    model.add(Dense(1))\n",
    "    model.compile(loss='mean_absolute_error', optimizer='adam')\n",
    "    \n",
    "    monitor = EarlyStopping(monitor='val_loss', min_delta=1e-3, patience=5, \n",
    "        verbose=1, mode='auto', restore_best_weights=True)\n",
    "    model.fit(x_train,y_train,validation_data=(x_test,y_test),\n",
    "        callbacks=[monitor], verbose=2,epochs=1000)\n",
    "    \n",
    "    pred = model.predict(x_test)\n",
    "    \n",
    "    out_of_sample_y.append(y_test)\n",
    "    out_of_sample_pred.append(pred)    \n",
    "\n",
    "    # Measure this fold's RMSE\n",
    "    score = np.sqrt(metrics.mean_absolute_error(pred,y_test))\n",
    "    print(f\"Fold score (MAE): {score}\")\n",
    "# Build the oos prediction list and calculate the error.\n",
    "out_of_sample_y = np.concatenate(out_of_sample_y)\n",
    "out_of_sample_pred = np.concatenate(out_of_sample_pred)\n",
    "\n",
    "\n",
    "\n",
    "\n",
    "score = np.sqrt(metrics.mean_absolute_error(out_of_sample_pred,out_of_sample_y))\n",
    "print(f\"Final, out of sample score (RMSE): {score}\")\n",
    "    \n"
   ]
  },
  {
   "cell_type": "code",
   "execution_count": 16,
   "id": "greenhouse-inspector",
   "metadata": {},
   "outputs": [
    {
     "name": "stdout",
     "output_type": "stream",
     "text": [
      "[array([[0.51348066],\n",
      "       [0.39987934],\n",
      "       [0.44722474],\n",
      "       [0.43654448],\n",
      "       [0.870128  ],\n",
      "       [0.33662358],\n",
      "       [0.5893666 ],\n",
      "       [0.3617073 ],\n",
      "       [0.2659033 ],\n",
      "       [0.8925205 ],\n",
      "       [0.3248547 ],\n",
      "       [0.5884473 ]], dtype=float32), array([[0.29858184],\n",
      "       [0.6754683 ],\n",
      "       [0.21041906],\n",
      "       [0.3844298 ],\n",
      "       [0.94236165],\n",
      "       [0.33010542],\n",
      "       [0.8600153 ],\n",
      "       [0.42287344],\n",
      "       [0.2027397 ],\n",
      "       [0.20280221],\n",
      "       [0.7660517 ],\n",
      "       [0.47555745]], dtype=float32), array([[0.80087316],\n",
      "       [0.5053216 ],\n",
      "       [0.92779964],\n",
      "       [0.9600152 ],\n",
      "       [0.33259195],\n",
      "       [0.154367  ],\n",
      "       [0.23144726],\n",
      "       [0.302872  ],\n",
      "       [0.24541304],\n",
      "       [0.6314484 ],\n",
      "       [0.8212741 ],\n",
      "       [0.39526597]], dtype=float32), array([[0.45515004],\n",
      "       [0.44293335],\n",
      "       [0.31055436],\n",
      "       [0.3582977 ],\n",
      "       [0.35195088],\n",
      "       [0.3404508 ],\n",
      "       [0.606754  ],\n",
      "       [0.30718252],\n",
      "       [0.65045017],\n",
      "       [0.48054615],\n",
      "       [0.5518795 ],\n",
      "       [0.4216268 ]], dtype=float32), array([[0.4004649 ],\n",
      "       [0.6278456 ],\n",
      "       [0.9469674 ],\n",
      "       [0.7231619 ],\n",
      "       [0.4591328 ],\n",
      "       [0.16457656],\n",
      "       [0.13039789],\n",
      "       [0.5612524 ],\n",
      "       [1.0083473 ],\n",
      "       [0.5241988 ],\n",
      "       [0.7032775 ],\n",
      "       [0.14447659]], dtype=float32)]\n"
     ]
    }
   ],
   "source": [
    "print(out_of_sample_pred)"
   ]
  },
  {
   "cell_type": "code",
   "execution_count": 17,
   "id": "developed-ceramic",
   "metadata": {},
   "outputs": [
    {
     "name": "stdout",
     "output_type": "stream",
     "text": [
      "[array([0.55050505, 0.31313131, 0.56060606, 0.23737374, 0.75757576,\n",
      "       0.        , 0.6010101 , 0.35858586, 0.24747475, 0.98484848,\n",
      "       0.4040404 , 0.78282828]), array([0.55050505, 0.67171717, 0.13636364, 0.43434343, 0.89393939,\n",
      "       0.40909091, 0.85353535, 0.42424242, 0.16666667, 0.35353535,\n",
      "       0.71212121, 0.54040404]), array([0.9040404 , 0.48989899, 0.93434343, 0.9040404 , 0.27777778,\n",
      "       0.12121212, 0.06060606, 0.15656566, 0.3030303 , 0.59090909,\n",
      "       0.96969697, 0.33838384]), array([0.45959596, 0.74747475, 0.32323232, 0.2979798 , 0.37878788,\n",
      "       0.34343434, 0.50505051, 0.15151515, 0.54040404, 0.59090909,\n",
      "       0.42929293, 0.43434343]), array([0.3030303 , 0.71212121, 0.94444444, 0.68181818, 0.53030303,\n",
      "       0.22727273, 0.13131313, 0.6010101 , 1.        , 0.52525252,\n",
      "       0.69191919, 0.13636364])]\n"
     ]
    }
   ],
   "source": [
    "print(out_of_sample_y)"
   ]
  },
  {
   "cell_type": "code",
   "execution_count": 9,
   "id": "respected-refrigerator",
   "metadata": {},
   "outputs": [
    {
     "name": "stdout",
     "output_type": "stream",
     "text": [
      "Requirement already satisfied: matplotlib in /srv/conda/envs/notebook/lib/python3.7/site-packages (3.4.2)\n",
      "Requirement already satisfied: pillow>=6.2.0 in /srv/conda/envs/notebook/lib/python3.7/site-packages (from matplotlib) (8.3.1)\n",
      "Requirement already satisfied: kiwisolver>=1.0.1 in /srv/conda/envs/notebook/lib/python3.7/site-packages (from matplotlib) (1.3.1)\n",
      "Requirement already satisfied: pyparsing>=2.2.1 in /srv/conda/envs/notebook/lib/python3.7/site-packages (from matplotlib) (2.4.7)\n",
      "Requirement already satisfied: python-dateutil>=2.7 in /srv/conda/envs/notebook/lib/python3.7/site-packages (from matplotlib) (2.8.1)\n",
      "Requirement already satisfied: numpy>=1.16 in /srv/conda/envs/notebook/lib/python3.7/site-packages (from matplotlib) (1.21.0)\n",
      "Requirement already satisfied: cycler>=0.10 in /srv/conda/envs/notebook/lib/python3.7/site-packages (from matplotlib) (0.10.0)\n",
      "Requirement already satisfied: six in /srv/conda/envs/notebook/lib/python3.7/site-packages (from cycler>=0.10->matplotlib) (1.15.0)\n"
     ]
    },
    {
     "ename": "ValueError",
     "evalue": "x and y can be no greater than 2D, but have shapes (5, 12) and (5, 12, 1)",
     "output_type": "error",
     "traceback": [
      "\u001b[0;31m---------------------------------------------------------------------------\u001b[0m",
      "\u001b[0;31mValueError\u001b[0m                                Traceback (most recent call last)",
      "\u001b[0;32m<ipython-input-9-f2449cd3f819>\u001b[0m in \u001b[0;36m<module>\u001b[0;34m\u001b[0m\n\u001b[1;32m      5\u001b[0m plt.plot(out_of_sample_y, #training Y value\n\u001b[1;32m      6\u001b[0m  \u001b[0mout_of_sample_pred\u001b[0m\u001b[0;34m,\u001b[0m \u001b[0;31m#predicted Y value\u001b[0m\u001b[0;34m\u001b[0m\u001b[0;34m\u001b[0m\u001b[0m\n\u001b[0;32m----> 7\u001b[0;31m  'ro') #red dots\n\u001b[0m\u001b[1;32m      8\u001b[0m \u001b[0mplt\u001b[0m\u001b[0;34m.\u001b[0m\u001b[0mtitle\u001b[0m\u001b[0;34m(\u001b[0m\u001b[0;34m'Training Set'\u001b[0m\u001b[0;34m)\u001b[0m\u001b[0;34m\u001b[0m\u001b[0;34m\u001b[0m\u001b[0m\n\u001b[1;32m      9\u001b[0m \u001b[0mplt\u001b[0m\u001b[0;34m.\u001b[0m\u001b[0mxlabel\u001b[0m\u001b[0;34m(\u001b[0m\u001b[0;34m'Actual'\u001b[0m\u001b[0;34m)\u001b[0m\u001b[0;34m\u001b[0m\u001b[0;34m\u001b[0m\u001b[0m\n",
      "\u001b[0;32m/srv/conda/envs/notebook/lib/python3.7/site-packages/matplotlib/pyplot.py\u001b[0m in \u001b[0;36mplot\u001b[0;34m(scalex, scaley, data, *args, **kwargs)\u001b[0m\n\u001b[1;32m   3019\u001b[0m     return gca().plot(\n\u001b[1;32m   3020\u001b[0m         \u001b[0;34m*\u001b[0m\u001b[0margs\u001b[0m\u001b[0;34m,\u001b[0m \u001b[0mscalex\u001b[0m\u001b[0;34m=\u001b[0m\u001b[0mscalex\u001b[0m\u001b[0;34m,\u001b[0m \u001b[0mscaley\u001b[0m\u001b[0;34m=\u001b[0m\u001b[0mscaley\u001b[0m\u001b[0;34m,\u001b[0m\u001b[0;34m\u001b[0m\u001b[0;34m\u001b[0m\u001b[0m\n\u001b[0;32m-> 3021\u001b[0;31m         **({\"data\": data} if data is not None else {}), **kwargs)\n\u001b[0m\u001b[1;32m   3022\u001b[0m \u001b[0;34m\u001b[0m\u001b[0m\n\u001b[1;32m   3023\u001b[0m \u001b[0;34m\u001b[0m\u001b[0m\n",
      "\u001b[0;32m/srv/conda/envs/notebook/lib/python3.7/site-packages/matplotlib/axes/_axes.py\u001b[0m in \u001b[0;36mplot\u001b[0;34m(self, scalex, scaley, data, *args, **kwargs)\u001b[0m\n\u001b[1;32m   1603\u001b[0m         \"\"\"\n\u001b[1;32m   1604\u001b[0m         \u001b[0mkwargs\u001b[0m \u001b[0;34m=\u001b[0m \u001b[0mcbook\u001b[0m\u001b[0;34m.\u001b[0m\u001b[0mnormalize_kwargs\u001b[0m\u001b[0;34m(\u001b[0m\u001b[0mkwargs\u001b[0m\u001b[0;34m,\u001b[0m \u001b[0mmlines\u001b[0m\u001b[0;34m.\u001b[0m\u001b[0mLine2D\u001b[0m\u001b[0;34m)\u001b[0m\u001b[0;34m\u001b[0m\u001b[0;34m\u001b[0m\u001b[0m\n\u001b[0;32m-> 1605\u001b[0;31m         \u001b[0mlines\u001b[0m \u001b[0;34m=\u001b[0m \u001b[0;34m[\u001b[0m\u001b[0;34m*\u001b[0m\u001b[0mself\u001b[0m\u001b[0;34m.\u001b[0m\u001b[0m_get_lines\u001b[0m\u001b[0;34m(\u001b[0m\u001b[0;34m*\u001b[0m\u001b[0margs\u001b[0m\u001b[0;34m,\u001b[0m \u001b[0mdata\u001b[0m\u001b[0;34m=\u001b[0m\u001b[0mdata\u001b[0m\u001b[0;34m,\u001b[0m \u001b[0;34m**\u001b[0m\u001b[0mkwargs\u001b[0m\u001b[0;34m)\u001b[0m\u001b[0;34m]\u001b[0m\u001b[0;34m\u001b[0m\u001b[0;34m\u001b[0m\u001b[0m\n\u001b[0m\u001b[1;32m   1606\u001b[0m         \u001b[0;32mfor\u001b[0m \u001b[0mline\u001b[0m \u001b[0;32min\u001b[0m \u001b[0mlines\u001b[0m\u001b[0;34m:\u001b[0m\u001b[0;34m\u001b[0m\u001b[0;34m\u001b[0m\u001b[0m\n\u001b[1;32m   1607\u001b[0m             \u001b[0mself\u001b[0m\u001b[0;34m.\u001b[0m\u001b[0madd_line\u001b[0m\u001b[0;34m(\u001b[0m\u001b[0mline\u001b[0m\u001b[0;34m)\u001b[0m\u001b[0;34m\u001b[0m\u001b[0;34m\u001b[0m\u001b[0m\n",
      "\u001b[0;32m/srv/conda/envs/notebook/lib/python3.7/site-packages/matplotlib/axes/_base.py\u001b[0m in \u001b[0;36m__call__\u001b[0;34m(self, data, *args, **kwargs)\u001b[0m\n\u001b[1;32m    313\u001b[0m                 \u001b[0mthis\u001b[0m \u001b[0;34m+=\u001b[0m \u001b[0margs\u001b[0m\u001b[0;34m[\u001b[0m\u001b[0;36m0\u001b[0m\u001b[0;34m]\u001b[0m\u001b[0;34m,\u001b[0m\u001b[0;34m\u001b[0m\u001b[0;34m\u001b[0m\u001b[0m\n\u001b[1;32m    314\u001b[0m                 \u001b[0margs\u001b[0m \u001b[0;34m=\u001b[0m \u001b[0margs\u001b[0m\u001b[0;34m[\u001b[0m\u001b[0;36m1\u001b[0m\u001b[0;34m:\u001b[0m\u001b[0;34m]\u001b[0m\u001b[0;34m\u001b[0m\u001b[0;34m\u001b[0m\u001b[0m\n\u001b[0;32m--> 315\u001b[0;31m             \u001b[0;32myield\u001b[0m \u001b[0;32mfrom\u001b[0m \u001b[0mself\u001b[0m\u001b[0;34m.\u001b[0m\u001b[0m_plot_args\u001b[0m\u001b[0;34m(\u001b[0m\u001b[0mthis\u001b[0m\u001b[0;34m,\u001b[0m \u001b[0mkwargs\u001b[0m\u001b[0;34m)\u001b[0m\u001b[0;34m\u001b[0m\u001b[0;34m\u001b[0m\u001b[0m\n\u001b[0m\u001b[1;32m    316\u001b[0m \u001b[0;34m\u001b[0m\u001b[0m\n\u001b[1;32m    317\u001b[0m     \u001b[0;32mdef\u001b[0m \u001b[0mget_next_color\u001b[0m\u001b[0;34m(\u001b[0m\u001b[0mself\u001b[0m\u001b[0;34m)\u001b[0m\u001b[0;34m:\u001b[0m\u001b[0;34m\u001b[0m\u001b[0;34m\u001b[0m\u001b[0m\n",
      "\u001b[0;32m/srv/conda/envs/notebook/lib/python3.7/site-packages/matplotlib/axes/_base.py\u001b[0m in \u001b[0;36m_plot_args\u001b[0;34m(self, tup, kwargs, return_kwargs)\u001b[0m\n\u001b[1;32m    502\u001b[0m                              f\"have shapes {x.shape} and {y.shape}\")\n\u001b[1;32m    503\u001b[0m         \u001b[0;32mif\u001b[0m \u001b[0mx\u001b[0m\u001b[0;34m.\u001b[0m\u001b[0mndim\u001b[0m \u001b[0;34m>\u001b[0m \u001b[0;36m2\u001b[0m \u001b[0;32mor\u001b[0m \u001b[0my\u001b[0m\u001b[0;34m.\u001b[0m\u001b[0mndim\u001b[0m \u001b[0;34m>\u001b[0m \u001b[0;36m2\u001b[0m\u001b[0;34m:\u001b[0m\u001b[0;34m\u001b[0m\u001b[0;34m\u001b[0m\u001b[0m\n\u001b[0;32m--> 504\u001b[0;31m             raise ValueError(f\"x and y can be no greater than 2D, but have \"\n\u001b[0m\u001b[1;32m    505\u001b[0m                              f\"shapes {x.shape} and {y.shape}\")\n\u001b[1;32m    506\u001b[0m         \u001b[0;32mif\u001b[0m \u001b[0mx\u001b[0m\u001b[0;34m.\u001b[0m\u001b[0mndim\u001b[0m \u001b[0;34m==\u001b[0m \u001b[0;36m1\u001b[0m\u001b[0;34m:\u001b[0m\u001b[0;34m\u001b[0m\u001b[0;34m\u001b[0m\u001b[0m\n",
      "\u001b[0;31mValueError\u001b[0m: x and y can be no greater than 2D, but have shapes (5, 12) and (5, 12, 1)"
     ]
    },
    {
     "data": {
      "image/png": "[encoded data removed]",
      "text/plain": [
       "<Figure size 432x288 with 1 Axes>"
      ]
     },
     "metadata": {
      "needs_background": "light"
     },
     "output_type": "display_data"
    }
   ],
   "source": [
    "!pip install matplotlib\n",
    "import matplotlib.pyplot as plt\n",
    "resultsTest = np.genfromtxt(\"80_Train.csv\",\n",
    " delimiter=\",\")\n",
    "plt.plot(out_of_sample_y, #training Y value\n",
    " out_of_sample_pred, #predicted Y value\n",
    " 'ro') #red dots\n",
    "plt.title('Training Set')\n",
    "plt.xlabel('Actual')\n",
    "plt.ylabel('Predicted')"
   ]
  },
  {
   "cell_type": "code",
   "execution_count": null,
   "id": "mathematical-diesel",
   "metadata": {},
   "outputs": [],
   "source": [
    "from sklearn.metrics import r2_score\n",
    "testR2 = r2_score(out_of_sample_pred, out_of_sample_y)"
   ]
  }
 ],
 "metadata": {
  "kernelspec": {
   "display_name": "Python 3",
   "language": "python",
   "name": "python3"
  },
  "language_info": {
   "codemirror_mode": {
    "name": "ipython",
    "version": 3
   },
   "file_extension": ".py",
   "mimetype": "text/x-python",
   "name": "python",
   "nbconvert_exporter": "python",
   "pygments_lexer": "ipython3",
   "version": "3.7.10"
  }
 },
 "nbformat": 4,
 "nbformat_minor": 5
}
