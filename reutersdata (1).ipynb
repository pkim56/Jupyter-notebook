{
 "cells": [
  {
   "cell_type": "code",
   "execution_count": 1,
   "id": "outside-mustang",
   "metadata": {},
   "outputs": [
    {
     "name": "stdout",
     "output_type": "stream",
     "text": [
      "Collecting package metadata (current_repodata.json): done\n",
      "Solving environment: failed with initial frozen solve. Retrying with flexible solve.\n",
      "Collecting package metadata (repodata.json): done\n",
      "Solving environment: done\n",
      "\n",
      "\n",
      "==> WARNING: A newer version of conda exists. <==\n",
      "  current version: 4.9.2\n",
      "  latest version: 4.10.2\n",
      "\n",
      "Please update conda by running\n",
      "\n",
      "    $ conda update -n base conda\n",
      "\n",
      "\n",
      "\n",
      "## Package Plan ##\n",
      "\n",
      "  environment location: /srv/conda/envs/notebook\n",
      "\n",
      "  added / updated specs:\n",
      "    - tensorflow\n",
      "\n",
      "\n",
      "The following packages will be downloaded:\n",
      "\n",
      "    package                    |            build\n",
      "    ---------------------------|-----------------\n",
      "    absl-py-0.13.0             |     pyhd8ed1ab_0          97 KB  conda-forge\n",
      "    astor-0.8.1                |     pyh9f0ad1d_0          25 KB  conda-forge\n",
      "    ca-certificates-2021.5.30  |       ha878542_0         136 KB  conda-forge\n",
      "    cached-property-1.5.2      |       hd8ed1ab_1           4 KB  conda-forge\n",
      "    cached_property-1.5.2      |     pyha770c72_1          11 KB  conda-forge\n",
      "    certifi-2021.5.30          |   py36h5fab9bb_0         141 KB  conda-forge\n",
      "    gast-0.5.0                 |     pyhd8ed1ab_0          12 KB  conda-forge\n",
      "    google-pasta-0.2.0         |     pyh8c360ce_0          42 KB  conda-forge\n",
      "    grpcio-1.38.1              |   py36h8e87921_0         2.2 MB  conda-forge\n",
      "    h5py-3.1.0                 |nompi_py36hc1bc4f5_100         1.2 MB  conda-forge\n",
      "    hdf5-1.10.6                |nompi_h6a2412b_1114         3.1 MB  conda-forge\n",
      "    keras-applications-1.0.8   |             py_1          30 KB  conda-forge\n",
      "    keras-preprocessing-1.1.2  |     pyhd8ed1ab_0          34 KB  conda-forge\n",
      "    libprotobuf-3.17.2         |       h780b84a_0         2.5 MB  conda-forge\n",
      "    markdown-3.3.4             |     pyhd8ed1ab_0          67 KB  conda-forge\n",
      "    openssl-1.1.1k             |       h7f98852_0         2.1 MB  conda-forge\n",
      "    protobuf-3.17.2            |   py36hc4f0c31_0         334 KB  conda-forge\n",
      "    tensorboard-1.14.0         |           py36_0         3.2 MB  conda-forge\n",
      "    tensorflow-1.14.0          |       hc3e5e64_0          23 KB  conda-forge\n",
      "    tensorflow-base-1.14.0     |   py36hc3e5e64_0        87.6 MB  conda-forge\n",
      "    tensorflow-estimator-1.14.0|   py36h5ca1d4c_0         645 KB  conda-forge\n",
      "    termcolor-1.1.0            |             py_2           6 KB  conda-forge\n",
      "    tifffile-2020.7.4          |             py_0         111 KB  conda-forge\n",
      "    werkzeug-2.0.1             |     pyhd8ed1ab_0         219 KB  conda-forge\n",
      "    wrapt-1.12.1               |   py36h8f6f2f9_3          47 KB  conda-forge\n",
      "    ------------------------------------------------------------\n",
      "                                           Total:       103.9 MB\n",
      "\n",
      "The following NEW packages will be INSTALLED:\n",
      "\n",
      "  absl-py            conda-forge/noarch::absl-py-0.13.0-pyhd8ed1ab_0\n",
      "  astor              conda-forge/noarch::astor-0.8.1-pyh9f0ad1d_0\n",
      "  cached-property    conda-forge/noarch::cached-property-1.5.2-hd8ed1ab_1\n",
      "  cached_property    conda-forge/noarch::cached_property-1.5.2-pyha770c72_1\n",
      "  gast               conda-forge/noarch::gast-0.5.0-pyhd8ed1ab_0\n",
      "  google-pasta       conda-forge/noarch::google-pasta-0.2.0-pyh8c360ce_0\n",
      "  grpcio             conda-forge/linux-64::grpcio-1.38.1-py36h8e87921_0\n",
      "  h5py               conda-forge/linux-64::h5py-3.1.0-nompi_py36hc1bc4f5_100\n",
      "  hdf5               conda-forge/linux-64::hdf5-1.10.6-nompi_h6a2412b_1114\n",
      "  keras-applications conda-forge/noarch::keras-applications-1.0.8-py_1\n",
      "  keras-preprocessi~ conda-forge/noarch::keras-preprocessing-1.1.2-pyhd8ed1ab_0\n",
      "  libprotobuf        conda-forge/linux-64::libprotobuf-3.17.2-h780b84a_0\n",
      "  markdown           conda-forge/noarch::markdown-3.3.4-pyhd8ed1ab_0\n",
      "  protobuf           conda-forge/linux-64::protobuf-3.17.2-py36hc4f0c31_0\n",
      "  tensorboard        conda-forge/linux-64::tensorboard-1.14.0-py36_0\n",
      "  tensorflow         conda-forge/linux-64::tensorflow-1.14.0-hc3e5e64_0\n",
      "  tensorflow-base    conda-forge/linux-64::tensorflow-base-1.14.0-py36hc3e5e64_0\n",
      "  tensorflow-estima~ conda-forge/linux-64::tensorflow-estimator-1.14.0-py36h5ca1d4c_0\n",
      "  termcolor          conda-forge/noarch::termcolor-1.1.0-py_2\n",
      "  werkzeug           conda-forge/noarch::werkzeug-2.0.1-pyhd8ed1ab_0\n",
      "  wrapt              conda-forge/linux-64::wrapt-1.12.1-py36h8f6f2f9_3\n",
      "\n",
      "The following packages will be UPDATED:\n",
      "\n",
      "  ca-certificates                      2020.12.5-ha878542_0 --> 2021.5.30-ha878542_0\n",
      "  certifi                          2020.12.5-py36h5fab9bb_1 --> 2021.5.30-py36h5fab9bb_0\n",
      "  openssl                                 1.1.1j-h7f98852_0 --> 1.1.1k-h7f98852_0\n",
      "\n",
      "The following packages will be SUPERSEDED by a higher-priority channel:\n",
      "\n",
      "  tifffile           pkgs/main::tifffile-2021.3.31-pyhd3eb~ --> conda-forge::tifffile-2020.7.4-py_0\n",
      "\n",
      "\n",
      "\n",
      "Downloading and Extracting Packages\n",
      "keras-applications-1 | 30 KB     | ##################################### | 100% \n",
      "hdf5-1.10.6          | 3.1 MB    | ##################################### | 100% \n",
      "wrapt-1.12.1         | 47 KB     | ##################################### | 100% \n",
      "markdown-3.3.4       | 67 KB     | ##################################### | 100% \n",
      "gast-0.5.0           | 12 KB     | ##################################### | 100% \n",
      "ca-certificates-2021 | 136 KB    | ##################################### | 100% \n",
      "protobuf-3.17.2      | 334 KB    | ##################################### | 100% \n",
      "cached_property-1.5. | 11 KB     | ##################################### | 100% \n",
      "keras-preprocessing- | 34 KB     | ##################################### | 100% \n",
      "astor-0.8.1          | 25 KB     | ##################################### | 100% \n",
      "libprotobuf-3.17.2   | 2.5 MB    | ##################################### | 100% \n",
      "absl-py-0.13.0       | 97 KB     | ##################################### | 100% \n",
      "tifffile-2020.7.4    | 111 KB    | ##################################### | 100% \n",
      "certifi-2021.5.30    | 141 KB    | ##################################### | 100% \n",
      "google-pasta-0.2.0   | 42 KB     | ##################################### | 100% \n",
      "tensorboard-1.14.0   | 3.2 MB    | ##################################### | 100% \n",
      "openssl-1.1.1k       | 2.1 MB    | ##################################### | 100% \n",
      "tensorflow-estimator | 645 KB    | ##################################### | 100% \n",
      "termcolor-1.1.0      | 6 KB      | ##################################### | 100% \n",
      "tensorflow-base-1.14 | 87.6 MB   | ##################################### | 100% \n",
      "tensorflow-1.14.0    | 23 KB     | ##################################### | 100% \n",
      "werkzeug-2.0.1       | 219 KB    | ##################################### | 100% \n",
      "cached-property-1.5. | 4 KB      | ##################################### | 100% \n",
      "h5py-3.1.0           | 1.2 MB    | ##################################### | 100% \n",
      "grpcio-1.38.1        | 2.2 MB    | ##################################### | 100% \n",
      "Preparing transaction: done\n",
      "Verifying transaction: done\n",
      "Executing transaction: done\n",
      "\n",
      "Note: you may need to restart the kernel to use updated packages.\n"
     ]
    }
   ],
   "source": [
    "conda install tensorflow"
   ]
  },
  {
   "cell_type": "code",
   "execution_count": 2,
   "id": "amended-substitute",
   "metadata": {},
   "outputs": [
    {
     "name": "stdout",
     "output_type": "stream",
     "text": [
      "Collecting package metadata (current_repodata.json): done\n",
      "Solving environment: done\n",
      "\n",
      "\n",
      "==> WARNING: A newer version of conda exists. <==\n",
      "  current version: 4.9.2\n",
      "  latest version: 4.10.2\n",
      "\n",
      "Please update conda by running\n",
      "\n",
      "    $ conda update -n base conda\n",
      "\n",
      "\n",
      "\n",
      "## Package Plan ##\n",
      "\n",
      "  environment location: /srv/conda/envs/notebook\n",
      "\n",
      "  added / updated specs:\n",
      "    - keras\n",
      "\n",
      "\n",
      "The following packages will be downloaded:\n",
      "\n",
      "    package                    |            build\n",
      "    ---------------------------|-----------------\n",
      "    keras-2.3.1                |           py36_0         591 KB  conda-forge\n",
      "    libgpuarray-0.7.6          |    h7f98852_1003         245 KB  conda-forge\n",
      "    pygpu-0.7.6                |py36h92226af_1002         648 KB  conda-forge\n",
      "    theano-0.9.0               |           py36_1         4.1 MB  conda-forge\n",
      "    ------------------------------------------------------------\n",
      "                                           Total:         5.5 MB\n",
      "\n",
      "The following NEW packages will be INSTALLED:\n",
      "\n",
      "  keras              conda-forge/linux-64::keras-2.3.1-py36_0\n",
      "  libgpuarray        conda-forge/linux-64::libgpuarray-0.7.6-h7f98852_1003\n",
      "  pygpu              conda-forge/linux-64::pygpu-0.7.6-py36h92226af_1002\n",
      "  theano             conda-forge/linux-64::theano-0.9.0-py36_1\n",
      "\n",
      "\n",
      "\n",
      "Downloading and Extracting Packages\n",
      "pygpu-0.7.6          | 648 KB    | ##################################### | 100% \n",
      "keras-2.3.1          | 591 KB    | ##################################### | 100% \n",
      "theano-0.9.0         | 4.1 MB    | ##################################### | 100% \n",
      "libgpuarray-0.7.6    | 245 KB    | ##################################### | 100% \n",
      "Preparing transaction: done\n",
      "Verifying transaction: done\n",
      "Executing transaction: done\n",
      "\n",
      "Note: you may need to restart the kernel to use updated packages.\n"
     ]
    }
   ],
   "source": [
    "conda install keras"
   ]
  },
  {
   "cell_type": "code",
   "execution_count": 3,
   "id": "massive-inspector",
   "metadata": {},
   "outputs": [
    {
     "name": "stderr",
     "output_type": "stream",
     "text": [
      "Using TensorFlow backend.\n",
      "/srv/conda/envs/notebook/lib/python3.6/site-packages/tensorflow/python/framework/dtypes.py:516: FutureWarning: Passing (type, 1) or '1type' as a synonym of type is deprecated; in a future version of numpy, it will be understood as (type, (1,)) / '(1,)type'.\n",
      "  _np_qint8 = np.dtype([(\"qint8\", np.int8, 1)])\n",
      "/srv/conda/envs/notebook/lib/python3.6/site-packages/tensorflow/python/framework/dtypes.py:517: FutureWarning: Passing (type, 1) or '1type' as a synonym of type is deprecated; in a future version of numpy, it will be understood as (type, (1,)) / '(1,)type'.\n",
      "  _np_quint8 = np.dtype([(\"quint8\", np.uint8, 1)])\n",
      "/srv/conda/envs/notebook/lib/python3.6/site-packages/tensorflow/python/framework/dtypes.py:518: FutureWarning: Passing (type, 1) or '1type' as a synonym of type is deprecated; in a future version of numpy, it will be understood as (type, (1,)) / '(1,)type'.\n",
      "  _np_qint16 = np.dtype([(\"qint16\", np.int16, 1)])\n",
      "/srv/conda/envs/notebook/lib/python3.6/site-packages/tensorflow/python/framework/dtypes.py:519: FutureWarning: Passing (type, 1) or '1type' as a synonym of type is deprecated; in a future version of numpy, it will be understood as (type, (1,)) / '(1,)type'.\n",
      "  _np_quint16 = np.dtype([(\"quint16\", np.uint16, 1)])\n",
      "/srv/conda/envs/notebook/lib/python3.6/site-packages/tensorflow/python/framework/dtypes.py:520: FutureWarning: Passing (type, 1) or '1type' as a synonym of type is deprecated; in a future version of numpy, it will be understood as (type, (1,)) / '(1,)type'.\n",
      "  _np_qint32 = np.dtype([(\"qint32\", np.int32, 1)])\n",
      "/srv/conda/envs/notebook/lib/python3.6/site-packages/tensorflow/python/framework/dtypes.py:525: FutureWarning: Passing (type, 1) or '1type' as a synonym of type is deprecated; in a future version of numpy, it will be understood as (type, (1,)) / '(1,)type'.\n",
      "  np_resource = np.dtype([(\"resource\", np.ubyte, 1)])\n",
      "/srv/conda/envs/notebook/lib/python3.6/site-packages/tensorboard/compat/tensorflow_stub/dtypes.py:541: FutureWarning: Passing (type, 1) or '1type' as a synonym of type is deprecated; in a future version of numpy, it will be understood as (type, (1,)) / '(1,)type'.\n",
      "  _np_qint8 = np.dtype([(\"qint8\", np.int8, 1)])\n",
      "/srv/conda/envs/notebook/lib/python3.6/site-packages/tensorboard/compat/tensorflow_stub/dtypes.py:542: FutureWarning: Passing (type, 1) or '1type' as a synonym of type is deprecated; in a future version of numpy, it will be understood as (type, (1,)) / '(1,)type'.\n",
      "  _np_quint8 = np.dtype([(\"quint8\", np.uint8, 1)])\n",
      "/srv/conda/envs/notebook/lib/python3.6/site-packages/tensorboard/compat/tensorflow_stub/dtypes.py:543: FutureWarning: Passing (type, 1) or '1type' as a synonym of type is deprecated; in a future version of numpy, it will be understood as (type, (1,)) / '(1,)type'.\n",
      "  _np_qint16 = np.dtype([(\"qint16\", np.int16, 1)])\n",
      "/srv/conda/envs/notebook/lib/python3.6/site-packages/tensorboard/compat/tensorflow_stub/dtypes.py:544: FutureWarning: Passing (type, 1) or '1type' as a synonym of type is deprecated; in a future version of numpy, it will be understood as (type, (1,)) / '(1,)type'.\n",
      "  _np_quint16 = np.dtype([(\"quint16\", np.uint16, 1)])\n",
      "/srv/conda/envs/notebook/lib/python3.6/site-packages/tensorboard/compat/tensorflow_stub/dtypes.py:545: FutureWarning: Passing (type, 1) or '1type' as a synonym of type is deprecated; in a future version of numpy, it will be understood as (type, (1,)) / '(1,)type'.\n",
      "  _np_qint32 = np.dtype([(\"qint32\", np.int32, 1)])\n",
      "/srv/conda/envs/notebook/lib/python3.6/site-packages/tensorboard/compat/tensorflow_stub/dtypes.py:550: FutureWarning: Passing (type, 1) or '1type' as a synonym of type is deprecated; in a future version of numpy, it will be understood as (type, (1,)) / '(1,)type'.\n",
      "  np_resource = np.dtype([(\"resource\", np.ubyte, 1)])\n"
     ]
    },
    {
     "name": "stdout",
     "output_type": "stream",
     "text": [
      "Downloading data from https://s3.amazonaws.com/text-datasets/reuters.npz\n",
      "2113536/2110848 [==============================] - 0s 0us/step\n"
     ]
    },
    {
     "name": "stderr",
     "output_type": "stream",
     "text": [
      "/srv/conda/envs/notebook/lib/python3.6/site-packages/keras/datasets/reuters.py:85: VisibleDeprecationWarning: Creating an ndarray from ragged nested sequences (which is a list-or-tuple of lists-or-tuples-or ndarrays with different lengths or shapes) is deprecated. If you meant to do this, you must specify 'dtype=object' when creating the ndarray\n",
      "  x_train, y_train = np.array(xs[:idx]), np.array(labels[:idx])\n",
      "/srv/conda/envs/notebook/lib/python3.6/site-packages/keras/datasets/reuters.py:86: VisibleDeprecationWarning: Creating an ndarray from ragged nested sequences (which is a list-or-tuple of lists-or-tuples-or ndarrays with different lengths or shapes) is deprecated. If you meant to do this, you must specify 'dtype=object' when creating the ndarray\n",
      "  x_test, y_test = np.array(xs[idx:]), np.array(labels[idx:])\n"
     ]
    }
   ],
   "source": [
    "from keras.datasets import reuters\n",
    "(train_data, train_labels), (test_data, test_labels) = reuters.load_data(\n",
    "num_words=10000)\n",
    "#we are using retuer data set and setting 10,000 most common words"
   ]
  },
  {
   "cell_type": "code",
   "execution_count": 4,
   "id": "alike-operator",
   "metadata": {},
   "outputs": [
    {
     "name": "stdout",
     "output_type": "stream",
     "text": [
      "Downloading data from https://s3.amazonaws.com/text-datasets/reuters_word_index.json\n",
      "557056/550378 [==============================] - 0s 0us/step\n"
     ]
    }
   ],
   "source": [
    "word_index = reuters.get_word_index()\n",
    "reverse_word_index = dict([(value, key) for (key, value) in word_index.items()])\n",
    "decoded_newswire = ' '.join([reverse_word_index.get(i - 3, '?') for i in\n",
    "train_data[0]])\n",
    "#decoding back into words"
   ]
  },
  {
   "cell_type": "code",
   "execution_count": 5,
   "id": "neural-powell",
   "metadata": {},
   "outputs": [],
   "source": [
    "import numpy as np\n",
    "def vectorize_sequences(sequences, dimension=10000):\n",
    "   results = np.zeros((len(sequences), dimension))\n",
    "   for i, sequence in enumerate(sequences):\n",
    "       results[i, sequence] = 1.\n",
    "   return results\n",
    "x_train = vectorize_sequences(train_data)\n",
    "x_test = vectorize_sequences(test_data)\n",
    "#we are vecotrigzing the train and test data"
   ]
  },
  {
   "cell_type": "code",
   "execution_count": 6,
   "id": "amino-semiconductor",
   "metadata": {},
   "outputs": [],
   "source": [
    "from keras import models\n",
    "from keras import layers\n",
    "model = models.Sequential()\n",
    "model.add(layers.Dense(64, activation='relu', input_shape=(10000,)))\n",
    "model.add(layers.Dense(64, activation='relu'))\n",
    "model.add(layers.Dense(46, activation='softmax'))\n",
    "#The last layer is 46 which means that network will output a 46 dimentional layer\n",
    "#The last  layer uses activation of softmax which means it output a probability distribution over 46 different input\n"
   ]
  },
  {
   "cell_type": "code",
   "execution_count": 7,
   "id": "overhead-serbia",
   "metadata": {},
   "outputs": [],
   "source": [
    "model.compile(optimizer='rmsprop',\n",
    "loss='categorical_crossentropy',\n",
    "metrics=['accuracy'])"
   ]
  },
  {
   "cell_type": "code",
   "execution_count": 8,
   "id": "hybrid-geology",
   "metadata": {},
   "outputs": [],
   "source": [
    "def to_one_hot(labels, dimension=46):\n",
    "   results = np.zeros((len(labels), dimension))\n",
    "   for i, label in enumerate(labels):\n",
    "    results[i, label] = 1.\n",
    "   return results\n",
    "one_hot_train_labels = to_one_hot(train_labels)\n",
    "one_hot_test_labels = to_one_hot(test_labels)\n",
    "x_val = x_train[:1000]\n",
    "partial_x_train = x_train[1000:]\n",
    "y_val = one_hot_train_labels[:1000]\n",
    "partial_y_train = one_hot_train_labels[1000:]\n",
    "#we need to vectorize the training and test labels\n",
    "#we are hot encoding and embaleing each label as an all zero vecotr with 1 in the place of label index"
   ]
  },
  {
   "cell_type": "code",
   "execution_count": 13,
   "id": "lonely-mistress",
   "metadata": {},
   "outputs": [
    {
     "name": "stdout",
     "output_type": "stream",
     "text": [
      "Train on 7982 samples, validate on 1000 samples\n",
      "Epoch 1/20\n",
      "7982/7982 [==============================] - 2s 262us/step - loss: 0.0968 - accuracy: 0.9589 - val_loss: 1.2265 - val_accuracy: 0.7890\n",
      "Epoch 2/20\n",
      "7982/7982 [==============================] - 2s 267us/step - loss: 0.0917 - accuracy: 0.9578 - val_loss: 1.2423 - val_accuracy: 0.7970\n",
      "Epoch 3/20\n",
      "7982/7982 [==============================] - 2s 254us/step - loss: 0.0944 - accuracy: 0.9605 - val_loss: 1.2549 - val_accuracy: 0.7920\n",
      "Epoch 4/20\n",
      "7982/7982 [==============================] - 2s 267us/step - loss: 0.0950 - accuracy: 0.9585 - val_loss: 1.2639 - val_accuracy: 0.7940\n",
      "Epoch 5/20\n",
      "7982/7982 [==============================] - 2s 258us/step - loss: 0.0950 - accuracy: 0.9583 - val_loss: 1.2470 - val_accuracy: 0.7880\n",
      "Epoch 6/20\n",
      "7982/7982 [==============================] - 2s 253us/step - loss: 0.0906 - accuracy: 0.9592 - val_loss: 1.3483 - val_accuracy: 0.7850\n",
      "Epoch 7/20\n",
      "7982/7982 [==============================] - 2s 256us/step - loss: 0.0947 - accuracy: 0.9577 - val_loss: 1.2663 - val_accuracy: 0.7940\n",
      "Epoch 8/20\n",
      "7982/7982 [==============================] - 2s 250us/step - loss: 0.0914 - accuracy: 0.9592 - val_loss: 1.3312 - val_accuracy: 0.7840\n",
      "Epoch 9/20\n",
      "7982/7982 [==============================] - 2s 250us/step - loss: 0.0897 - accuracy: 0.9585 - val_loss: 1.2646 - val_accuracy: 0.7840\n",
      "Epoch 10/20\n",
      "7982/7982 [==============================] - 2s 255us/step - loss: 0.0899 - accuracy: 0.9589 - val_loss: 1.3564 - val_accuracy: 0.7830\n",
      "Epoch 11/20\n",
      "7982/7982 [==============================] - 2s 252us/step - loss: 0.0892 - accuracy: 0.9590 - val_loss: 1.3380 - val_accuracy: 0.7850\n",
      "Epoch 12/20\n",
      "7982/7982 [==============================] - 2s 251us/step - loss: 0.0880 - accuracy: 0.9578 - val_loss: 1.3735 - val_accuracy: 0.7850\n",
      "Epoch 13/20\n",
      "7982/7982 [==============================] - 2s 257us/step - loss: 0.0915 - accuracy: 0.9569 - val_loss: 1.3481 - val_accuracy: 0.7840\n",
      "Epoch 14/20\n",
      "7982/7982 [==============================] - 2s 249us/step - loss: 0.0869 - accuracy: 0.9578 - val_loss: 1.3151 - val_accuracy: 0.7930\n",
      "Epoch 15/20\n",
      "7982/7982 [==============================] - 2s 251us/step - loss: 0.0875 - accuracy: 0.9604 - val_loss: 1.4722 - val_accuracy: 0.7650\n",
      "Epoch 16/20\n",
      "7982/7982 [==============================] - 2s 259us/step - loss: 0.0882 - accuracy: 0.9582 - val_loss: 1.3701 - val_accuracy: 0.7840\n",
      "Epoch 17/20\n",
      "7982/7982 [==============================] - 2s 266us/step - loss: 0.0868 - accuracy: 0.9582 - val_loss: 1.4211 - val_accuracy: 0.7870\n",
      "Epoch 18/20\n",
      "7982/7982 [==============================] - 7s 869us/step - loss: 0.0865 - accuracy: 0.9598 - val_loss: 1.3512 - val_accuracy: 0.7940\n",
      "Epoch 19/20\n",
      "7982/7982 [==============================] - 2s 256us/step - loss: 0.0826 - accuracy: 0.9599 - val_loss: 1.3814 - val_accuracy: 0.7850\n",
      "Epoch 20/20\n",
      "7982/7982 [==============================] - 2s 260us/step - loss: 0.0880 - accuracy: 0.9575 - val_loss: 1.4146 - val_accuracy: 0.7860\n"
     ]
    }
   ],
   "source": [
    "history = model.fit(partial_x_train,\n",
    "partial_y_train,\n",
    "epochs=20,\n",
    "batch_size=512,\n",
    "validation_data=(x_val, y_val))"
   ]
  },
  {
   "cell_type": "code",
   "execution_count": 15,
   "id": "executive-occasion",
   "metadata": {},
   "outputs": [
    {
     "data": {
      "image/png": "[encoded data removed]",
      "text/plain": [
       "<Figure size 432x288 with 1 Axes>"
      ]
     },
     "metadata": {
      "needs_background": "light"
     },
     "output_type": "display_data"
    }
   ],
   "source": [
    "import matplotlib.pyplot as plt\n",
    "loss = history.history['loss']\n",
    "val_loss = history.history['val_loss']\n",
    "epochs = range(1, len(loss) + 1)\n",
    "plt.plot(epochs, loss, 'bo', label='Training loss')\n",
    "plt.plot(epochs, val_loss, 'b', label='Validation loss')\n",
    "plt.title('Training and validation loss')\n",
    "plt.xlabel('Epochs')\n",
    "plt.ylabel('Loss')\n",
    "plt.legend()\n",
    "plt.show()\n",
    "#plotting the traiining and validation loss"
   ]
  },
  {
   "cell_type": "code",
   "execution_count": 17,
   "id": "starting-receipt",
   "metadata": {},
   "outputs": [
    {
     "ename": "KeyError",
     "evalue": "'acc'",
     "output_type": "error",
     "traceback": [
      "\u001b[0;31m---------------------------------------------------------------------------\u001b[0m",
      "\u001b[0;31mKeyError\u001b[0m                                  Traceback (most recent call last)",
      "\u001b[0;32m<ipython-input-17-a08369da9c0c>\u001b[0m in \u001b[0;36m<module>\u001b[0;34m\u001b[0m\n\u001b[0;32m----> 1\u001b[0;31m \u001b[0macc\u001b[0m \u001b[0;34m=\u001b[0m \u001b[0mhistory\u001b[0m\u001b[0;34m.\u001b[0m\u001b[0mhistory\u001b[0m\u001b[0;34m[\u001b[0m\u001b[0;34m'acc'\u001b[0m\u001b[0;34m]\u001b[0m\u001b[0;34m\u001b[0m\u001b[0;34m\u001b[0m\u001b[0m\n\u001b[0m\u001b[1;32m      2\u001b[0m \u001b[0mval_acc\u001b[0m \u001b[0;34m=\u001b[0m \u001b[0mhistory\u001b[0m\u001b[0;34m.\u001b[0m\u001b[0mhistory\u001b[0m\u001b[0;34m[\u001b[0m\u001b[0;34m'val_acc'\u001b[0m\u001b[0;34m]\u001b[0m\u001b[0;34m\u001b[0m\u001b[0;34m\u001b[0m\u001b[0m\n\u001b[1;32m      3\u001b[0m \u001b[0mplt\u001b[0m\u001b[0;34m.\u001b[0m\u001b[0mplot\u001b[0m\u001b[0;34m(\u001b[0m\u001b[0mepochs\u001b[0m\u001b[0;34m,\u001b[0m \u001b[0macc\u001b[0m\u001b[0;34m,\u001b[0m \u001b[0;34m'bo'\u001b[0m\u001b[0;34m,\u001b[0m \u001b[0mlabel\u001b[0m\u001b[0;34m=\u001b[0m\u001b[0;34m'Training acc'\u001b[0m\u001b[0;34m)\u001b[0m\u001b[0;34m\u001b[0m\u001b[0;34m\u001b[0m\u001b[0m\n\u001b[1;32m      4\u001b[0m \u001b[0mplt\u001b[0m\u001b[0;34m.\u001b[0m\u001b[0mplot\u001b[0m\u001b[0;34m(\u001b[0m\u001b[0mepochs\u001b[0m\u001b[0;34m,\u001b[0m \u001b[0mval_acc\u001b[0m\u001b[0;34m,\u001b[0m \u001b[0;34m'b'\u001b[0m\u001b[0;34m,\u001b[0m \u001b[0mlabel\u001b[0m\u001b[0;34m=\u001b[0m\u001b[0;34m'Validation acc'\u001b[0m\u001b[0;34m)\u001b[0m\u001b[0;34m\u001b[0m\u001b[0;34m\u001b[0m\u001b[0m\n\u001b[1;32m      5\u001b[0m \u001b[0mplt\u001b[0m\u001b[0;34m.\u001b[0m\u001b[0mtitle\u001b[0m\u001b[0;34m(\u001b[0m\u001b[0;34m'Training and validation accuracy'\u001b[0m\u001b[0;34m)\u001b[0m\u001b[0;34m\u001b[0m\u001b[0;34m\u001b[0m\u001b[0m\n",
      "\u001b[0;31mKeyError\u001b[0m: 'acc'"
     ]
    }
   ],
   "source": [
    "acc = history.history['acc']\n",
    "val_acc = history.history['val_acc']\n",
    "plt.plot(epochs, acc, 'bo', label='Training acc')\n",
    "plt.plot(epochs, val_acc, 'b', label='Validation acc')\n",
    "plt.title('Training and validation accuracy')\n",
    "plt.xlabel('Epochs')\n",
    "plt.ylabel('Loss')\n",
    "plt.legend()\n",
    "plt.show()\n",
    "#plotting the training and validation accuracy"
   ]
  },
  {
   "cell_type": "code",
   "execution_count": 18,
   "id": "simplified-candidate",
   "metadata": {},
   "outputs": [
    {
     "name": "stdout",
     "output_type": "stream",
     "text": [
      "Train on 7982 samples, validate on 1000 samples\n",
      "Epoch 1/9\n",
      "7982/7982 [==============================] - 2s 263us/step - loss: 2.6605 - accuracy: 0.5264 - val_loss: 1.7785 - val_accuracy: 0.6380\n",
      "Epoch 2/9\n",
      "7982/7982 [==============================] - 2s 238us/step - loss: 1.4460 - accuracy: 0.7053 - val_loss: 1.3157 - val_accuracy: 0.7150\n",
      "Epoch 3/9\n",
      "7982/7982 [==============================] - 2s 250us/step - loss: 1.0567 - accuracy: 0.7776 - val_loss: 1.1377 - val_accuracy: 0.7580\n",
      "Epoch 4/9\n",
      "7982/7982 [==============================] - 2s 240us/step - loss: 0.8290 - accuracy: 0.8250 - val_loss: 1.0450 - val_accuracy: 0.7740\n",
      "Epoch 5/9\n",
      "7982/7982 [==============================] - 2s 248us/step - loss: 0.6606 - accuracy: 0.8604 - val_loss: 0.9696 - val_accuracy: 0.7950\n",
      "Epoch 6/9\n",
      "7982/7982 [==============================] - 2s 250us/step - loss: 0.5329 - accuracy: 0.8875 - val_loss: 0.9257 - val_accuracy: 0.8070\n",
      "Epoch 7/9\n",
      "7982/7982 [==============================] - 2s 240us/step - loss: 0.4284 - accuracy: 0.9107 - val_loss: 0.8994 - val_accuracy: 0.8030\n",
      "Epoch 8/9\n",
      "7982/7982 [==============================] - 2s 238us/step - loss: 0.3540 - accuracy: 0.9256 - val_loss: 0.8826 - val_accuracy: 0.8240\n",
      "Epoch 9/9\n",
      "7982/7982 [==============================] - 2s 239us/step - loss: 0.2889 - accuracy: 0.9381 - val_loss: 0.8864 - val_accuracy: 0.8180\n",
      "2246/2246 [==============================] - 0s 176us/step\n"
     ]
    }
   ],
   "source": [
    "model = models.Sequential()\n",
    "model.add(layers.Dense(64, activation='relu', input_shape=(10000,)))\n",
    "model.add(layers.Dense(64, activation='relu'))\n",
    "model.add(layers.Dense(46, activation='softmax'))\n",
    "model.compile(optimizer='rmsprop',\n",
    "loss='categorical_crossentropy',\n",
    "metrics=['accuracy'])\n",
    "model.fit(partial_x_train,\n",
    "partial_y_train,\n",
    "epochs=9,\n",
    "batch_size=512,\n",
    "validation_data=(x_val, y_val))\n",
    "results = model.evaluate(x_test, one_hot_test_labels)\n",
    "#model begins to overfit after 9 epochs from previous so we use 9 epochs"
   ]
  },
  {
   "cell_type": "code",
   "execution_count": null,
   "id": "aquatic-alpha",
   "metadata": {},
   "outputs": [],
   "source": [
    "results"
   ]
  }
 ],
 "metadata": {
  "kernelspec": {
   "display_name": "Python 3",
   "language": "python",
   "name": "python3"
  },
  "language_info": {
   "codemirror_mode": {
    "name": "ipython",
    "version": 3
   },
   "file_extension": ".py",
   "mimetype": "text/x-python",
   "name": "python",
   "nbconvert_exporter": "python",
   "pygments_lexer": "ipython3",
   "version": "3.6.13"
  }
 },
 "nbformat": 4,
 "nbformat_minor": 5
}
