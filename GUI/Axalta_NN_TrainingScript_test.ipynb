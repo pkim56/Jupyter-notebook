{
 "cells": [
  {
   "cell_type": "code",
   "execution_count": 2,
   "id": "ef0328bc-aa55-4976-989a-c214b8f01685",
   "metadata": {},
   "outputs": [],
   "source": [
    "# Neural Networks Training Script (a la Chisholm)\n",
    "\n",
    "# NEURAL NETWORK TRAINING\n",
    "\n",
    "# IMPORTING THE LIBRARIES\n",
    "\n",
    "import numpy as np\n",
    "import pandas as pd\n",
    "from pandas import DataFrame as df\n",
    "from sklearn.preprocessing import OneHotEncoder, MaxAbsScaler\n",
    "from sklearn.compose import make_column_transformer\n",
    "from keras.models import Sequential\n",
    "from keras.layers import Dense\n",
    "from sklearn.model_selection import KFold, train_test_split\n",
    "from random import shuffle"
   ]
  },
  {
   "cell_type": "code",
   "execution_count": 3,
   "id": "3a23ab8f-7149-40f1-9397-1e9b99f05dd4",
   "metadata": {},
   "outputs": [],
   "source": [
    "# DATA PRE-PROCESSING\n",
    "\n",
    "# pre-process input variables\n",
    "\n",
    "X = pd.read_csv('AxaltaData_210318_clean_070821.csv', usecols = [\n",
    "        'wt_IPDA', 'wt_HDDA', 'wt_TMPTA', 'wt_TMPEOTA',\n",
    "        'wt_DEM', 'wt_DBM', 'wt_DOM', 'wt_IPDI'])"
   ]
  },
  {
   "cell_type": "code",
   "execution_count": 4,
   "id": "d278043a-a4e7-422c-bd88-b901b5e595af",
   "metadata": {},
   "outputs": [
    {
     "name": "stdout",
     "output_type": "stream",
     "text": [
      "   wt_IPDA  wt_HDDA  wt_TMPTA  wt_TMPEOTA  wt_DEM  wt_DBM  wt_DOM  wt_IPDI\n",
      "0     0.22     0.00      0.00        0.04     0.0     0.0    0.64      0.1\n",
      "1     0.23     0.00      0.03        0.00     0.0     0.0    0.65      0.1\n",
      "2     0.22     0.03      0.00        0.00     0.0     0.0    0.64      0.1\n"
     ]
    }
   ],
   "source": [
    "# View at first three entries of each input variable X\n",
    "\n",
    "print(X.head(3))"
   ]
  },
  {
   "cell_type": "code",
   "execution_count": 5,
   "id": "1556875c-4560-4f2d-82ab-da1f992e1f42",
   "metadata": {},
   "outputs": [],
   "source": [
    "# Create X scaler array for scaling X inputs.\n",
    "\n",
    "X_scaler = pd.read_csv('scaler_AxaltaData_210318_clean_070821.csv', usecols = [\n",
    "        'wt_IPDA', 'wt_HDDA', 'wt_TMPTA', 'wt_TMPEOTA',\n",
    "        'wt_DEM', 'wt_DBM', 'wt_DOM', 'wt_IPDI'])"
   ]
  },
  {
   "cell_type": "code",
   "execution_count": 6,
   "id": "fdce8598-8167-40be-addb-964c3e740720",
   "metadata": {},
   "outputs": [
    {
     "name": "stdout",
     "output_type": "stream",
     "text": [
      "   wt_IPDA  wt_HDDA  wt_TMPTA  wt_TMPEOTA  wt_DEM  wt_DBM  wt_DOM  wt_IPDI\n",
      "0        1        1         1           1       1       1       1        1\n",
      "1        1        1         1           1       1       1       1        1\n",
      "2        1        1         1           1       1       1       1        1\n"
     ]
    }
   ],
   "source": [
    "# View at first three entries of each input variable X\n",
    "\n",
    "print(X_scaler.head(3))"
   ]
  },
  {
   "cell_type": "code",
   "execution_count": 7,
   "id": "0e193f83-000c-4407-9dda-12e05e0f2ffb",
   "metadata": {},
   "outputs": [],
   "source": [
    "# Define the preprocessor for scaling and encoding the X data\n",
    "\n",
    "X_preprocessor = make_column_transformer(\n",
    "        (MaxAbsScaler(),\n",
    "        ['wt_IPDA', 'wt_HDDA', 'wt_TMPTA', 'wt_TMPEOTA',\n",
    "        'wt_DEM', 'wt_DBM', 'wt_DOM', 'wt_IPDI']))"
   ]
  },
  {
   "cell_type": "code",
   "execution_count": 8,
   "id": "974c7ddc-c93c-4ec4-a444-3d4cc9f9d46a",
   "metadata": {},
   "outputs": [
    {
     "name": "stdout",
     "output_type": "stream",
     "text": [
      "ColumnTransformer(transformers=[('maxabsscaler', MaxAbsScaler(),\n",
      "                                 ['wt_IPDA', 'wt_HDDA', 'wt_TMPTA',\n",
      "                                  'wt_TMPEOTA', 'wt_DEM', 'wt_DBM', 'wt_DOM',\n",
      "                                  'wt_IPDI'])])\n"
     ]
    }
   ],
   "source": [
    "# View the defined preprocessor\n",
    "\n",
    "print(X_preprocessor)"
   ]
  },
  {
   "cell_type": "code",
   "execution_count": 9,
   "id": "7b892d34-f14f-4d2f-8f40-0da9b8e38b5e",
   "metadata": {},
   "outputs": [],
   "source": [
    "# Add the scaler dataset to the current dataset.\n",
    "# Doing this ensures consistent scaling of features.\n",
    "# Also allows encoding of categorical variables if available.\n",
    "\n",
    "X_w_scaler = X_preprocessor.fit_transform(X.append(X_scaler, sort = 'false'))"
   ]
  },
  {
   "cell_type": "code",
   "execution_count": 10,
   "id": "d850be60-1b73-4004-972f-a03f2eaeb633",
   "metadata": {},
   "outputs": [
    {
     "name": "stdout",
     "output_type": "stream",
     "text": [
      "[[0.22 0.   0.   ... 0.   0.64 0.1 ]\n",
      " [0.23 0.   0.03 ... 0.   0.65 0.1 ]\n",
      " [0.22 0.03 0.   ... 0.   0.64 0.1 ]\n",
      " ...\n",
      " [1.   1.   1.   ... 1.   1.   1.  ]\n",
      " [1.   1.   1.   ... 1.   1.   1.  ]\n",
      " [1.   1.   1.   ... 1.   1.   1.  ]]\n"
     ]
    }
   ],
   "source": [
    "# Take a look at X w/ scaler data added:\n",
    "\n",
    "print(X_w_scaler)"
   ]
  },
  {
   "cell_type": "code",
   "execution_count": 11,
   "id": "3e89b004-ae98-4858-93a3-99c541cb47b0",
   "metadata": {},
   "outputs": [],
   "source": [
    "# Load the model outputs (Y).\n",
    "\n",
    "# For now, use actual values in data and employ scaler before model fitting. \n",
    "\n",
    "# OPTION: USE NORM VALUES AND BYPASS SCALER\n",
    "\n",
    "# Y ouputs: fisher_2h, fisher_24h, fisher_7d, DOI_1day, gloss_1day, DOI_7d, gloss_7d, Amtec_afterScratch, Amtec_afterReflow, \n",
    "# Amtect_afterScratchRel6600, Amtec_afterReflowRel6600\n",
    "\n",
    "\n",
    "Y = pd.read_csv('AxaltaData_210318_clean_070821.csv', usecols = [\n",
    "                'fisher_2h', 'fisher_24h', 'fisher_7d', 'DOI_1day',\n",
    "                'gloss_1day', 'DOI_7d', 'gloss_7d',\n",
    "                'Amtec_afterScratch', 'Amtec_afterReflow', \n",
    "                'Amtect_afterScratchRel6600', 'Amtec_afterReflowRel6600'])"
   ]
  },
  {
   "cell_type": "code",
   "execution_count": 12,
   "id": "4781aefa-1f3d-4cb9-a448-b24e79aa7a47",
   "metadata": {},
   "outputs": [],
   "source": [
    "# Create Y scaler array for scaling X inputs.\n",
    "\n",
    "Y_scaler = pd.read_csv('scaler_AxaltaData_210318_clean_070821.csv', usecols = [\n",
    "        'fisher_2h', 'fisher_24h', 'fisher_7d', 'DOI_1day',\n",
    "        'gloss_1day', 'DOI_7d', 'gloss_7d',\n",
    "        'Amtec_afterScratch', 'Amtec_afterReflow', \n",
    "        'Amtect_afterScratchRel6600', 'Amtec_afterReflowRel6600'])"
   ]
  },
  {
   "cell_type": "code",
   "execution_count": 13,
   "id": "dc24fff7-457b-4e64-8249-fac31a6f8a70",
   "metadata": {},
   "outputs": [],
   "source": [
    "# Define the preprocessor for scaling and encoding the Y data\n",
    "\n",
    "Y_preprocessor = make_column_transformer(\n",
    "        (MaxAbsScaler(),\n",
    "         ['fisher_2h', 'fisher_24h', 'fisher_7d', 'DOI_1day',\n",
    "        'gloss_1day', 'DOI_7d', 'gloss_7d',\n",
    "        'Amtec_afterScratch', 'Amtec_afterReflow', \n",
    "        'Amtect_afterScratchRel6600', 'Amtec_afterReflowRel6600']))"
   ]
  },
  {
   "cell_type": "code",
   "execution_count": 14,
   "id": "34285448-41ba-499d-9b8f-6331c5b588e7",
   "metadata": {},
   "outputs": [
    {
     "name": "stdout",
     "output_type": "stream",
     "text": [
      "ColumnTransformer(transformers=[('maxabsscaler', MaxAbsScaler(),\n",
      "                                 ['fisher_2h', 'fisher_24h', 'fisher_7d',\n",
      "                                  'DOI_1day', 'gloss_1day', 'DOI_7d',\n",
      "                                  'gloss_7d', 'Amtec_afterScratch',\n",
      "                                  'Amtec_afterReflow',\n",
      "                                  'Amtect_afterScratchRel6600',\n",
      "                                  'Amtec_afterReflowRel6600'])])\n"
     ]
    }
   ],
   "source": [
    "# View the defined preprocessor\n",
    "\n",
    "print(Y_preprocessor)"
   ]
  },
  {
   "cell_type": "code",
   "execution_count": 15,
   "id": "ac834528-4155-47e1-9f9f-fc9dbc8063d2",
   "metadata": {},
   "outputs": [],
   "source": [
    "# Add the scaler dataset to the current dataset.\n",
    "# Doing this ensures consistent scaling of features.\n",
    "# Also allows encoding of categorical variables if available.\n",
    "\n",
    "Y_w_scaler = Y_preprocessor.fit_transform(Y.append(Y_scaler, sort = 'false'))"
   ]
  },
  {
   "cell_type": "code",
   "execution_count": 16,
   "id": "290d88fc-3bf2-46b0-86b8-db626e20af36",
   "metadata": {},
   "outputs": [
    {
     "name": "stdout",
     "output_type": "stream",
     "text": [
      "[[0.115   0.36475 0.4695  ... 0.6163  0.365   0.445  ]\n",
      " [0.0935  0.36375 0.458   ... 0.593   0.365   0.43   ]\n",
      " [0.08275 0.36575 0.46625 ... 0.6744  0.375   0.49   ]\n",
      " ...\n",
      " [1.      1.      1.      ... 1.      1.      1.     ]\n",
      " [1.      1.      1.      ... 1.      1.      1.     ]\n",
      " [1.      1.      1.      ... 1.      1.      1.     ]]\n"
     ]
    }
   ],
   "source": [
    "# Take a look at Y w/ scaler data added:\n",
    "\n",
    "print(Y_w_scaler)"
   ]
  },
  {
   "cell_type": "code",
   "execution_count": 17,
   "id": "b2a2976d-b0f3-49b2-8177-5f4a73f2fa3a",
   "metadata": {},
   "outputs": [],
   "source": [
    "# Now remove the scaler data from the X and Y datasets.\n",
    "\n",
    "X_checked =  X_w_scaler[0:(len(X_w_scaler)-len(X_scaler)),:]\n",
    "Y_checked =  Y_w_scaler[0:(len(Y_w_scaler)-len(Y_scaler)),:]"
   ]
  },
  {
   "cell_type": "code",
   "execution_count": 18,
   "id": "02ebe6c4-7426-43e4-ad7d-209cfa3a8a64",
   "metadata": {},
   "outputs": [],
   "source": [
    "# print(X_checked)"
   ]
  },
  {
   "cell_type": "code",
   "execution_count": 19,
   "id": "091d136f-a46e-495b-8653-9ea15f3fc001",
   "metadata": {},
   "outputs": [
    {
     "name": "stdout",
     "output_type": "stream",
     "text": [
      "[[0.115   0.36475 0.4695  0.933   0.842   0.908   0.852   0.4302  0.6163\n",
      "  0.365   0.445  ]\n",
      " [0.0935  0.36375 0.458   0.929   0.853   0.915   0.849   0.4302  0.593\n",
      "  0.365   0.43   ]\n",
      " [0.08275 0.36575 0.46625 0.938   0.854   0.912   0.854   0.4419  0.6744\n",
      "  0.375   0.49   ]\n",
      " [0.02975 0.1435  0.24    0.941   0.819   0.895   0.817   0.4118  0.4706\n",
      "  0.315   0.325  ]\n",
      " [0.02425 0.1294  0.21325 0.933   0.834   0.884   0.831   0.5059  0.5294\n",
      "  0.39    0.37   ]\n",
      " [0.022   0.12075 0.20475 0.947   0.844   0.906   0.842   0.5765  0.6235\n",
      "  0.445   0.435  ]\n",
      " [0.04875 0.17775 0.284   0.835   0.841   0.84    0.835   0.5647  0.6824\n",
      "  0.435   0.475  ]\n",
      " [0.037   0.17875 0.26425 0.866   0.829   0.845   0.819   0.5294  0.6118\n",
      "  0.405   0.425  ]\n",
      " [0.02425 0.14025 0.23925 0.831   0.845   0.843   0.843   0.6133  0.68\n",
      "  0.47    0.47   ]\n",
      " [0.02875 0.144   0.2405  0.805   0.815   0.802   0.82    0.5926  0.6914\n",
      "  0.455   0.48   ]\n",
      " [0.01375 0.1265  0.2245  0.902   0.847   0.859   0.83    0.6588  0.7294\n",
      "  0.505   0.505  ]\n",
      " [0.032   0.17875 0.2855  0.786   0.805   0.76    0.777   0.6667  0.7692\n",
      "  0.515   0.535  ]\n",
      " [0.02775 0.49825 0.5975  0.914   0.854   0.902   0.854   0.38    0.53\n",
      "  0.41    0.335  ]\n",
      " [0.02775 0.46175 0.57125 0.873   0.851   0.878   0.851   0.47    0.67\n",
      "  0.51    0.425  ]\n",
      " [0.023   0.451   0.5455  0.897   0.854   0.894   0.853   0.44    0.61\n",
      "  0.47    0.39   ]\n",
      " [0.0775  0.56175 0.6805  0.839   0.857   0.849   0.849   0.3     0.4\n",
      "  0.325   0.255  ]\n",
      " [0.0985  0.58575 0.6875  0.846   0.841   0.857   0.853   0.31    0.4\n",
      "  0.33    0.255  ]\n",
      " [0.01075 0.388   0.50725 0.906   0.85    0.889   0.853   0.47    0.71\n",
      "  0.51    0.45   ]\n",
      " [0.003   0.1475  0.2915  0.914   0.839   0.9     0.844   0.65    0.72\n",
      "  0.7     0.455  ]\n",
      " [0.01775 0.13425 0.21875 0.925   0.837   0.866   0.841   0.6235  0.6471\n",
      "  0.74    0.45   ]\n",
      " [0.0105  0.11375 0.184   0.914   0.833   0.863   0.824   0.6353  0.6471\n",
      "  0.75    0.45   ]\n",
      " [0.142   0.3825  0.48425 0.878   0.853   0.875   0.854   0.3721  0.5116\n",
      "  0.42    0.34   ]\n",
      " [0.02875 0.1905  0.28375 0.865   0.847   0.844   0.842   0.5647  0.6471\n",
      "  0.635   0.43   ]\n",
      " [0.005   0.06075 0.10025 0.94    0.837   0.843   0.81    0.3846  0.4359\n",
      "  0.435   0.29   ]\n",
      " [0.009   0.1165  0.1835  0.924   0.845   0.851   0.81    0.6234  0.6494\n",
      "  0.7     0.43   ]\n",
      " [0.02725 0.2045  0.28575 0.853   0.853   0.834   0.843   0.5176  0.6588\n",
      "  0.58    0.435  ]\n",
      " [0.34925 0.5065  0.5985  0.898   0.846   0.89    0.849   0.3088  0.393\n",
      "  0.345   0.26   ]\n",
      " [0.3195  0.49225 0.5755  0.902   0.845   0.896   0.856   0.2544  0.3271\n",
      "  0.285   0.215  ]\n",
      " [0.26725 0.47125 0.55175 0.891   0.855   0.889   0.856   0.2209  0.3105\n",
      "  0.245   0.205  ]\n",
      " [0.21625 0.45    0.53725 0.904   0.836   0.882   0.858   0.2407  0.3523\n",
      "  0.27    0.23   ]\n",
      " [0.0035  0.03375 0.0665  0.958   0.838   0.906   0.833   0.5422  0.5783\n",
      "  0.585   0.375  ]\n",
      " [0.04075 0.351   0.43575 0.954   0.852   0.934   0.85    0.2791  0.4186\n",
      "  0.3     0.27   ]\n",
      " [0.18825 0.4965  0.62425 0.948   0.857   0.942   0.844   0.2093  0.314\n",
      "  0.225   0.205  ]\n",
      " [0.039   0.32125 0.41875 0.934   0.855   0.914   0.845   0.4419  0.6628\n",
      "  0.48    0.43   ]\n",
      " [0.0075  0.1155  0.2465  0.949   0.851   0.916   0.844   0.4706  0.5529\n",
      "  0.51    0.36   ]\n",
      " [0.02725 0.31175 0.4255  0.949   0.856   0.924   0.85    0.2674  0.3605\n",
      "  0.29    0.235  ]\n",
      " [0.07125 0.40675 0.50375 0.95    0.858   0.936   0.856   0.2791  0.5\n",
      "  0.3     0.325  ]\n",
      " [0.01725 0.13225 0.21725 0.874   0.849   0.865   0.833   0.5529  0.5882\n",
      "  0.6     0.38   ]\n",
      " [0.013   0.11525 0.199   0.937   0.842   0.885   0.832   0.43    0.45\n",
      "  0.58    0.375  ]\n",
      " [0.01325 0.12075 0.207   0.946   0.843   0.886   0.833   0.42    0.45\n",
      "  0.55    0.365  ]\n",
      " [0.01075 0.127   0.215   0.958   0.842   0.9     0.835   0.53    0.53\n",
      "  0.71    0.44   ]\n",
      " [0.012   0.12025 0.20875 0.945   0.843   0.891   0.835   0.59    0.59\n",
      "  0.785   0.485  ]\n",
      " [0.01075 0.11225 0.20975 0.94    0.842   0.895   0.832   0.49    0.54\n",
      "  0.645   0.44   ]\n",
      " [0.014   0.11025 0.21025 0.932   0.839   0.862   0.832   0.51    0.57\n",
      "  0.555   0.385  ]\n",
      " [0.0155  0.1165  0.20175 0.939   0.842   0.873   0.815   0.45    0.48\n",
      "  0.485   0.325  ]\n",
      " [0.013   0.11725 0.2065  0.945   0.841   0.879   0.835   0.52    0.6\n",
      "  0.56    0.405  ]\n",
      " [0.01525 0.11175 0.202   0.942   0.844   0.887   0.831   0.41    0.4\n",
      "  0.445   0.27   ]\n",
      " [0.013   0.102   0.19925 0.931   0.845   0.882   0.831   0.42    0.44\n",
      "  0.45    0.295  ]\n",
      " [0.029   0.2315  0.3065  0.88    0.846   0.805   0.84    0.6     0.71\n",
      "  0.805   0.52   ]\n",
      " [0.0445  0.25375 0.328   0.894   0.848   0.82    0.835   0.61    0.67\n",
      "  0.82    0.49   ]\n",
      " [0.0265  0.173   0.31775 0.897   0.855   0.866   0.85    0.6395  0.7442\n",
      "  0.545   0.465  ]\n",
      " [0.03125 0.1905  0.327   0.903   0.858   0.884   0.852   0.5814  0.686\n",
      "  0.495   0.43   ]\n",
      " [0.03225 0.1805  0.3285  0.91    0.858   0.881   0.845   0.5862  0.6897\n",
      "  0.5     0.43   ]\n",
      " [0.0315  0.18975 0.3295  0.915   0.858   0.888   0.854   0.5517  0.6667\n",
      "  0.47    0.415  ]\n",
      " [0.02925 0.19425 0.3295  0.9     0.858   0.881   0.854   0.593   0.7442\n",
      "  0.505   0.465  ]\n",
      " [0.207   0.45925 0.56075 0.914   0.847   0.895   0.846   0.407   0.5349\n",
      "  0.365   0.345  ]\n",
      " [0.15475 0.431   0.55775 0.908   0.844   0.904   0.86    0.4023  0.5977\n",
      "  0.36    0.385  ]\n",
      " [0.1435  0.4295  0.55525 0.865   0.855   0.852   0.856   0.4302  0.6279\n",
      "  0.385   0.4    ]\n",
      " [0.10325 0.37875 0.49075 0.889   0.855   0.878   0.858   0.5581  0.7674\n",
      "  0.5     0.49   ]\n",
      " [0.06625 0.3395  0.493   0.844   0.852   0.831   0.854   0.5349  0.7674\n",
      "  0.475   0.49   ]\n",
      " [0.107   0.3905  0.488   0.937   0.857   0.922   0.859   0.4713  0.6437\n",
      "  0.42    0.41   ]\n",
      " [0.1905  0.434   0.52875 0.949   0.859   0.929   0.856   0.2874  0.4023\n",
      "  0.255   0.255  ]\n",
      " [0.26975 0.4765  0.57475 0.948   0.859   0.927   0.852   0.2759  0.4253\n",
      "  0.245   0.27   ]\n",
      " [0.23825 0.43925 0.56525 0.948   0.859   0.927   0.86    0.3218  0.4368\n",
      "  0.285   0.28   ]\n",
      " [0.024   0.117   0.2384  0.876   0.866   0.842   0.78    0.5854  0.6341\n",
      "  0.605   0.405  ]\n",
      " [0.0375  0.28175 0.4702  0.945   0.875   0.928   0.856   0.3103  0.4713\n",
      "  0.32    0.3    ]\n",
      " [0.245   0.41825 0.5945  0.891   0.851   0.896   0.856   0.4302  0.5233\n",
      "  0.42    0.355  ]\n",
      " [0.22775 0.40675 0.5875  0.897   0.8573  0.906   0.861   0.3678  0.4598\n",
      "  0.36    0.315  ]\n",
      " [0.2335  0.40275 0.577   0.897   0.854   0.918   0.86    0.3678  0.4598\n",
      "  0.36    0.315  ]\n",
      " [0.21425 0.417   0.584   0.897   0.847   0.926   0.844   0.3563  0.4368\n",
      "  0.35    0.3    ]\n",
      " [0.0975  0.3825  0.51    0.93    0.85    0.927   0.853   0.6395  0.7442\n",
      "  0.535   0.415  ]\n",
      " [0.103   0.388   0.507   0.936   0.852   0.932   0.856   0.6395  0.7442\n",
      "  0.535   0.415  ]\n",
      " [0.1025  0.3815  0.504   0.925   0.854   0.925   0.86    0.5698  0.7093\n",
      "  0.48    0.395  ]\n",
      " [0.102   0.3855  0.503   0.94    0.852   0.94    0.86    0.5977  0.7011\n",
      "  0.5     0.39   ]\n",
      " [0.107   0.386   0.502   0.945   0.853   0.941   0.859   0.6395  0.7674\n",
      "  0.535   0.425  ]\n",
      " [0.107   0.384   0.501   0.945   0.851   0.937   0.862   0.7241  0.7586\n",
      "  0.61    0.42   ]\n",
      " [0.075   0.2365  0.376   0.772   0.843   0.777   0.832   0.6786  0.8333\n",
      "  0.57    0.465  ]\n",
      " [0.0915  0.2565  0.37    0.82    0.841   0.81    0.836   0.6829  0.8415\n",
      "  0.575   0.47   ]\n",
      " [0.091   0.2585  0.3685  0.836   0.798   0.817   0.838   0.619   0.8095\n",
      "  0.52    0.45   ]\n",
      " [0.0815  0.257   0.361   0.825   0.845   0.813   0.843   0.6118  0.7882\n",
      "  0.515   0.44   ]\n",
      " [0.1065  0.407   0.513   0.911   0.852   0.883   0.853   0.3953  0.5465\n",
      "  0.33    0.305  ]\n",
      " [0.1075  0.402   0.513   0.922   0.859   0.901   0.858   0.4651  0.6395\n",
      "  0.39    0.355  ]\n",
      " [0.112   0.403   0.5105  0.94    0.859   0.915   0.858   0.4302  0.6395\n",
      "  0.36    0.355  ]\n",
      " [0.108   0.403   0.5035  0.914   0.858   0.895   0.857   0.4     0.6118\n",
      "  0.335   0.34   ]]\n"
     ]
    }
   ],
   "source": [
    "print(Y_checked)"
   ]
  },
  {
   "cell_type": "code",
   "execution_count": 20,
   "id": "1bee0576-95d5-4772-bcdb-4d0cc05640b4",
   "metadata": {},
   "outputs": [],
   "source": [
    "# DEFINE FUNCTIONS TO BE USED TO EVALUATE MODELS AND CONVERT DATA\n",
    "\n",
    "def get_accuracy(actual, predicted):\n",
    "    return 1 - sum(predicted != actual) / float(len(actual))"
   ]
  },
  {
   "cell_type": "code",
   "execution_count": 21,
   "id": "7d63d527-caa0-4eed-9430-8c2b477e009a",
   "metadata": {},
   "outputs": [],
   "source": [
    "def get_average_error(predicted, actual):\n",
    "    errors = []\n",
    "    for p, a in zip(predicted, actual):\n",
    "        error = abs(p-a)\n",
    "        errors.append(error)\n",
    "    return list(df(np.vstack(errors)).mean().round(3))"
   ]
  },
  {
   "cell_type": "code",
   "execution_count": 22,
   "id": "b1388c2c-0080-4e39-9ec0-57f7aa4f6764",
   "metadata": {},
   "outputs": [],
   "source": [
    "def get_percent_error(predicted, actual):\n",
    "    errors = []\n",
    "    for p, a in zip(predicted, actual):\n",
    "        error = abs(p-a)/a\n",
    "        errors.append(error)\n",
    "    return list(df(np.vstack(errors)).mean().round(3))"
   ]
  },
  {
   "cell_type": "code",
   "execution_count": 23,
   "id": "fb4770b2-dbc4-4955-9b1d-6dadaaace98b",
   "metadata": {},
   "outputs": [],
   "source": [
    "# Convert dummy variable vectors to original value.\n",
    "\n",
    "def value_decoder(data):\n",
    "    column_list = []\n",
    "    for n in np.arange(0,len(data)):\n",
    "        if sum(data[n,:]) == 0:\n",
    "            column_list.append(0)\n",
    "        for column in np.arange(0,len(data[0])):\n",
    "            if data[n,column] != 0:\n",
    "                column_list.append(column)\n",
    "    return np.array(column_list)"
   ]
  },
  {
   "cell_type": "code",
   "execution_count": 24,
   "id": "004f4a16-40a4-4b84-856e-171a673d63d7",
   "metadata": {},
   "outputs": [],
   "source": [
    "# Creat unscaler to returns data back to its original scale\n",
    "\n",
    "# fisher_2h, fisher_24h, fisher_7d, DOI_1day, gloss_1day, DOI_7d, gloss_7d, Amtec_afterScratch, \n",
    "# Amtec_afterReflow, Amtect_afterScratchRel6600, Amtec_afterReflowRel6600\n",
    "\n",
    "\n",
    "# fisher_2h row1 is 23. Scaled to 200 -> 0.115\n",
    "# fisher_24h row1 is 72.95. Scaled to 200 -> 0.36475\n",
    "# fisher_7d row1 is 93.9. Scaled to 200 -> 0.4695\n",
    "# DOI_1d row1 is 93.3. Scaled to 100 -> 0.933\n",
    "# gloss_1d row1 is 84.2. Scaled to 100 -> 0.842\n",
    "# DOI_7d row1 is 90.8. Scaled to 100 -> 0.908\n",
    "# gloss_7d row1 is 85.2. Scaled to 100 -> 0.852\n",
    "# Amtec_afterScratch row1 is 43.02. Scaled to 100 -> 0.4302\n",
    "# Amtec_afterReflow row1 is 61.63. Scaled to 100 -> 0.6163\n",
    "# Amtect_afterScratchRel6600 row1 is 0.73. Scaled to 2 -> 0.365\n",
    "# Amtec_afterReflowRel6600 row1 is 0.89. Scaled to 2 -> 0.445\n",
    "\n",
    "def unscaler(data):\n",
    "    if type(data) == pd.DataFrame:\n",
    "        data['fisher_2h'] = (data['fisher_2h']*200).round(2)\n",
    "        data['fisher_24h'] = (data['fisher_24h']*200).round(2)\n",
    "        data['fisher_7d'] = (data['fisher_7d']*200).round(2)\n",
    "        data['DOI_1d'] = (data['DOI_1d']*100).round(2)\n",
    "        data['gloss_1d'] = (data['gloss_1d']*100).round(2)\n",
    "        data['DOI_7d'] = (data['DOI_7d']*100).round(2)\n",
    "        data['gloss_7d'] = (data['gloss_7d']*100).round(2)\n",
    "        data['Amtec_afterScratch'] = (data['Amtec_afterScratch']*100).round(2)\n",
    "        data['Amtec_afterReflow'] = (data['Amtec_afterReflow']*100).round(2)\n",
    "        data['Amtect_afterScratchRel6600'] = (data['Amtect_afterScratchRel6600']*2).round(2)\n",
    "        data['Amtec_afterReflowRel6600'] = (data['Amtec_afterReflowRel6600']*2).round(2)\n",
    "        \n",
    "    elif type(data) == np.ndarray:\n",
    "        data[:,0] = (data[:,0]*200).round(2) # Fisher2h... not sure about 200 here. Or indexer.\n",
    "        data[:,1] = (data[:,1]*200).round(2) # Fisher24h... not sure about 200 here. Or indexer.\n",
    "        data[:,2] = (data[:,2]*200).round(2) # Fisher7d... not sure about 200 here. Or indexer.\n",
    "        data[:,3] = (data[:,3]*100).round(2) # DOI_1d\n",
    "        data[:,4] = (data[:,4]*100).round(2) # gloss_1d\n",
    "        data[:,5] = (data[:,5]*100).round(2) # DOI_7d\n",
    "        data[:,6] = (data[:,6]*100).round(2) # gloss_7d\n",
    "        data[:,7] = (data[:,7]*100).round(2) # Amtec_afterScratch\n",
    "        data[:,8] = (data[:,8]*100).round(2) # Amtec_afterReflow\n",
    "        data[:,9] = (data[:,9]*2).round(2) # Amtect_afterScratchRel6600\n",
    "        data[:,10] = (data[:,10]*2).round(2) # Amtec_afterReflowhRel6600\n",
    "        \n",
    "        data = df(data, columns = ['fisher_2h', 'fisher_24h', 'fisher_7d',\n",
    "                                   'DOI_1d', 'gloss_1d', 'DOI_7d',\n",
    "                                  'gloss_7d', 'Amtec_afterScratch',\n",
    "                                  'Amtec_afterReflow', 'Amtect_afterScratchRel6600',\n",
    "                                  'Amtec_afterReflowRel6600'])\n",
    "    return data"
   ]
  },
  {
   "cell_type": "code",
   "execution_count": 25,
   "id": "c21bd446-a7f4-45e9-ae7a-95b060c18d26",
   "metadata": {},
   "outputs": [],
   "source": [
    "# Defin kfold model trainer. Only continous variables now.\n",
    "# Categorical variables can be added later.\n",
    "\n",
    "def kfold_model_trainer(x_data, y_data, model, model_type, seed,\n",
    "                        num_splits, size_of_batches, n_epochs):\n",
    "\n",
    "    kf = KFold(n_splits = num_splits, shuffle = True, random_state = seed)\n",
    "\n",
    "    avg_errors = []\n",
    "    per_errors = []\n",
    "    accuracies = []\n",
    "    count = 0\n",
    "\n",
    "    if model_type == 'continuous':\n",
    "        for train_index, test_index in kf.split(x_data, y_data):\n",
    "            count = count + 1\n",
    "\n",
    "            X_train, X_test = x_data[train_index], x_data[test_index]\n",
    "            Y_train, Y_test = y_data[train_index], y_data[test_index]\n",
    "            shuffle([X_train, Y_train])\n",
    "            \n",
    "            Y_test = unscaler(Y_test)\n",
    "\n",
    "            np.random.seed(seed)\n",
    "            model.fit(X_train, Y_train,\n",
    "                      batch_size = size_of_batches,\n",
    "                      epochs = n_epochs)\n",
    "            pred_values = unscaler(model.predict(X_test))\n",
    "\n",
    "            avg_errors.append(get_average_error(pred_values.values,\n",
    "                                                Y_test.values))\n",
    "            per_errors.append(get_percent_error(pred_values.values,\n",
    "                                                 Y_test.values))\n",
    "\n",
    "            average_err = df(avg_errors, columns = ['fisher_2h', 'fisher_24h', 'fisher_7d',\n",
    "                                                    'DOI_1d', 'gloss_1d', 'DOI_7d',\n",
    "                                                    'gloss_7d', 'Amtec_afterScratch',\n",
    "                                                    'Amtec_afterReflow', 'Amtect_afterScratchRel6600',\n",
    "                                                    'Amtec_afterReflowRel6600'])\n",
    "            percent_err = df(per_errors, columns = ['fisher_2h', 'fisher_24h', 'fisher_7d',\n",
    "                                                    'DOI_1d', 'gloss_1d', 'DOI_7d',\n",
    "                                                    'gloss_7d', 'Amtec_afterScratch',\n",
    "                                                    'Amtec_afterReflow', 'Amtect_afterScratchRel6600',\n",
    "                                                    'Amtec_afterReflowRel6600'])\n",
    "        return [average_err, percent_err]\n"
   ]
  },
  {
   "cell_type": "code",
   "execution_count": null,
   "id": "e046f32a-9d98-429f-8d75-6af4262ca02d",
   "metadata": {},
   "outputs": [],
   "source": [
    "# Fit the NN Continuous Model\n",
    "\n",
    "seed = 0\n",
    "\n",
    "continuous_model = Sequential()\n",
    "# add input and first hidden layer\n",
    "continuous_model.add(Dense(units = 68,\n",
    "                           input_dim = len(X_checked[0]),\n",
    "                           kernel_initializer = 'uniform',\n",
    "                           activation = 'relu'))\n",
    "'''# add second hidden layer\n",
    "continuous_model.add(Dense(units = 102,\n",
    "                           kernel_initializer = 'uniform',\n",
    "                           activation = 'relu'))'''\n",
    "# add output layer\n",
    "continuous_model.add(Dense(units = 11,\n",
    "                           kernel_initializer = 'uniform',\n",
    "                           activation = 'relu'))\n",
    "# compile model\n",
    "continuous_model.compile(loss = 'mean_squared_error',\n",
    "                         optimizer = 'Adam',\n",
    "                         metrics = ['mae'])\n",
    "\n",
    "# train and save model\n",
    "con_model_stats = kfold_model_trainer(x_data = X_checked,\n",
    "                                      y_data = Y_checked,\n",
    "                                      model = continuous_model,\n",
    "                                      model_type = 'continuous',\n",
    "                                      seed = seed,\n",
    "                                      num_splits = 20,\n",
    "                                      size_of_batches = 3,\n",
    "                                      n_epochs = 200)\n",
    "con_avg_err = con_model_stats[0]\n",
    "con_perc_err = con_model_stats[1]\n",
    "\n",
    "continuous_model.fit(X_checked, Y_checked,\n",
    "                     batch_size = 3, epochs = 200)\n",
    "\n",
    "continuous_model.save('Axalta_kfold_continuous_network_all_SAPPER.h5')"
   ]
  },
  {
   "cell_type": "code",
   "execution_count": null,
   "id": "c9822c29-8278-40de-ad29-9c4bb0ea1cb8",
   "metadata": {},
   "outputs": [],
   "source": []
  }
 ],
 "metadata": {
  "kernelspec": {
   "display_name": "Python 3 (ipykernel)",
   "language": "python",
   "name": "python3"
  },
  "language_info": {
   "codemirror_mode": {
    "name": "ipython",
    "version": 3
   },
   "file_extension": ".py",
   "mimetype": "text/x-python",
   "name": "python",
   "nbconvert_exporter": "python",
   "pygments_lexer": "ipython3",
   "version": "3.8.10"
  }
 },
 "nbformat": 4,
 "nbformat_minor": 5
}
